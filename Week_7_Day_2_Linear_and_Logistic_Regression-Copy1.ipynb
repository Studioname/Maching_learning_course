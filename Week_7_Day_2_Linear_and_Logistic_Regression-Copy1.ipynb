{
 "cells": [
  {
   "cell_type": "markdown",
   "id": "529718f8",
   "metadata": {},
   "source": [
    "# Week 7 - Linear Regression\n",
    "\n",
    "## Machine Learning Algorithms - Types and Tasks\n",
    "\n",
    "### Types of Machine Learning Algorithms\n",
    "\n",
    "There are three main types of ML algo\n",
    "\n",
    "1. Regression [e.g linear regression]\n",
    "2. Classification [e.g k-nearest-neighbour]\n",
    "3. Clustering [e.g k-means]\n",
    "\n",
    "#### Regression\n",
    "\n",
    "Regression is a **supervised** learning technique to **predict numerical quantities**. This might be something like **predicting the value of a particular stock**.\n",
    "\n",
    "Regression algorithms in ML include **linear regression and generalised linear regression** [also called multivariate analysis in traditional statistics]. Logistic regression is mostly used as a classification algorithm. \n",
    "\n",
    "#### Classification\n",
    "\n",
    "Classification is also a **supervised** learning technique, for **predicting numeric or categorical quantities**. An example might be an image classifier, which tells you if a picture is of a certain object or not. In this case the data is already labelled, so we can compare the prediction with the label that was predicted for it.\n",
    "\n",
    "Classification algorithms include:\n",
    "\n",
    "1. Logistic regression [as mentioned earlier]\n",
    "2. Decision trees [a single tree]\n",
    "3. Random forests [multiple trees]\n",
    "4. K-NN [K-nearest neighbour]\n",
    "5. Naive Bayes\n",
    "6. Support Vector Machines [SVM]\n",
    "\n",
    "**Some ML algos like Support Vector Machines, random forests, and k-nearest-neighbour support regression as well as classification**. In the case of Support Vector Machines, the sci-kit implementation of this algo provides two apis - SVC for classification and SVR for regression. \n",
    "\n",
    "**A random forest consists of multiple independent trees**, and **each tree makes a prediction regarding the value of a feature.** If the feature is numeric, take the mean or the mode or perform some other calculation in order to determine the final prediction. If the feature is categorical, use the mode as the result. In event of a tie, select one in a random fashion (shouldn't it return \"both\"?)\n",
    "\n",
    "#### Clustering\n",
    "\n",
    "Clustering is an **unsupervised** learning technique for grouping similar data together. \n",
    "\n",
    "**Clustering algos put data points in different clusters without knowing the nature of the data points. After the data has been separated into different clusters, you can use the Support Vector Machine algorithm to perform classification.**\n",
    "\n",
    "Clustering algorithms in ML include:\n",
    "\n",
    "1. K-means\n",
    "2. Hierarchical cluster analysis [HCA]\n",
    "3. Meanshift\n",
    "4. Expectation maximization\n",
    "\n",
    "**In k-means, the value of k is a hyperparameter - usually an odd number to avoid ties between two classes.**\n",
    "\n",
    "**The meanshift algorithm is a variation of k-means that does not require you to specify a value for k. It will determine the optimal value of clusters by itself, but it does not scale well for large datasets.**\n",
    "\n",
    "#### Machine Learning Tasks\n",
    "\n",
    "1. Obtain a dataset\n",
    "2. Clean data\n",
    "3. Feature engineering\n",
    "4. Dimensionality reduction\n",
    "5. Algorithm selection\n",
    "6. Prepare data\n",
    "7. Training the model\n",
    "8. Testing the model\n",
    "9. Fine-tuning the model\n",
    "10. Obtain metrics for the model\n",
    "\n",
    "**Unless you have a dataset that is already sanitised, you need to examine the data in a dataset to make sure it is suitable.**\n",
    "\n",
    "The **data preparation phase** involves:\n",
    "\n",
    "1. Examining the rows (data cleaning) to ensure they contain valid data\n",
    "2. Examining the columns (feature selection or extraction) to determine if you can retain only the most important columns.\n",
    "\n",
    "##### 1. Obtain a Dataset \n",
    "\n",
    "Get a relevant dataset.\n",
    "\n",
    "##### 2.  Clean the Data\n",
    "\n",
    "We can do this using the following techniques:\n",
    "\n",
    "1. Missing value ration\n",
    "2. Low variance filter\n",
    "3. High correlation filter\n",
    "\n",
    "Data cleaning mostly means checking the values in a dataset in order to resolve one or more of the following problems:\n",
    "\n",
    "1. Fix incorrect values\n",
    "2. Resolve duplicate values\n",
    "3. Resolve missing values\n",
    "4. Decide what to do with outliers\n",
    "\n",
    "If our dataset has too many **incorrect values**, we can use a **statistical value (e.g mean, mode etc)** to replace incorrect values with suitable ones. Duplicate values can be resolved in a similar fashion. \n",
    "\n",
    "To resolve **duplicate values**, we can use the **low variance technique** to **identify and drop features with constant values from the dataset**.\n",
    "\n",
    "If the dataset has **too many missing values**, we can **use the missing value ratio technique**. In extreme cases, we might be able to drop features with a large number of missing values.\n",
    "\n",
    "To **find highly correlated features which increase multicollinearity in the dataset**, we can use the **high correlation filter**. Such features can be removed from a dataset, but check with your domain expert before doing so. \n",
    "\n",
    "You can replace missing numeric values with zero, the minimum, the mean, the mode, or the maximum value in a numeric column. You can replace missing categorical values with the mode of the categorical column.\n",
    "\n",
    "If a row in a dataset contains a value that is an **outlier**, we have three choices:\n",
    "\n",
    "1. Delete the row\n",
    "2. Keep the row\n",
    "3. Replace the outlier with some other value (like mean, mode etc).\n",
    "\n",
    "When a dataset contains an outlier, we need to make a decision based on domain knowledge that is specific to the given dataset. Let's take the stock market crash of 1929 as an outlier. Such an occurrence is rare, and certainly an outlier, but can still contain meaningful information.\n",
    "\n",
    "##### 3. Feature Engineering\n",
    "\n",
    "**Feature Engineering** means to **examine the features in a dataset to determine whether or not you can reduce the dimensionality [e.g the number of columns]** of the dataset. The process for doing so involves **three main techniques**:\n",
    "\n",
    "1. Feature engineering\n",
    "2. Feature selection\n",
    "3. Feature extraction [aka feature projection]\n",
    "\n",
    "**Feature engineering** is the process of **creating a new set of features based on a combination of existing features in order to create a meaningful dataset for a given task**. Domain expertise is often required for this. After we have created a dataset, we perform **feature selection and/or extraction** to maximise quality.\n",
    "\n",
    "**Feature selection** is also called **variable selection, attribute selection or variable subset selection**. It involves **selecting a subset of the most relevant features in a dataset**, providing these advantages:\n",
    "\n",
    "1. Reduced training time\n",
    "2. Simpler models are easier to interpret\n",
    "3. Avoidance of the 'curse of dimensionality'\n",
    "4. Better generalisation due to reduction in overfitting [reduction in variance]\n",
    "\n",
    "Feature selection techniques are often used in domains where there are **many features and comparatively few samples (or data points)**. A low value feature can be redundant or irrelevant, which are different concepts. A relevant feature might be redundant when it is combined with another strongly correlated feature. For example, a relevant feature might be redundant when it is combined with another strongly correlated feature. \n",
    "\n",
    "**Feature selection can use three strategies**:\n",
    "\n",
    "1. The filter strategy (e.g information gain)\n",
    "2. The wrapper strategy (e.g search guided by accuracy)\n",
    "3. The embedded strategy (prediction errors are used to determine whether features are included or excluded while developing a model).\n",
    "\n",
    "**Feature selection can also be useful for regressions and classification tasks.**\n",
    "\n",
    "**Feature extraction creates new features from functions that produce combinations of the original features.** In contrast, feature selection involves selecting a subset of existing features. **Feature selection and extraction both reduce dimensionality**.\n",
    "\n",
    "##### 4. Dimensionality Reduction \n",
    "\n",
    "This refers to algorithms that reduce the number of features in a dataset. There are many techniques for this, and they **involve feature selection or extraction**. Dimensionality reduction algorithms **usually combine feature extraction and dimensionality reduction**, such as Principal Component Analysis (PCA).\n",
    "\n",
    "##### 5. Algorithm Selection\n",
    "\n",
    "We select the appropriate type of algorithm for our ML task [e.g linear regression, random forest, k-means cluster]. These are broadly covered earlier.\n",
    "\n",
    "##### 6. Prepare Data\n",
    "\n",
    "**At this point we are ready to split the dataset into two parts, training and test data**. The training set is used for training a model, and the test set is used for making predictions. \n",
    "\n",
    "**We must make sure our dataset conforms to the following guidelines:**\n",
    "\n",
    "1. The set is **large enough to yield results**.\n",
    "2. It is **representative of the dataset as a whole**\n",
    "3. **Never train on test data**\n",
    "4. **Never test on train data**\n",
    "\n",
    "###### Note on Cross Validation\n",
    "\n",
    "The purpose of **Cross Validation** is to **test a model with nonoverlapping test sets**. \n",
    "\n",
    "It is performed in the following manner:\n",
    "\n",
    "1. Split the data into k subsets of equal size\n",
    "\n",
    "2. Select one subset for testing and the others for training\n",
    "\n",
    "3. Repeat step 2 for the other subsets. \n",
    "\n",
    "This process is called **k-fold cross-validation, and the overall error estimate is the average of the error estimates.** A standard method for evaluation involves ten-fold cross-validation. 10 subsets is the optimal number. **You can repeat ten-fold cross-validation ten times and compute the average of the results, which reduces variance**.\n",
    "\n",
    "##### Note on Regularisation\n",
    "\n",
    "**Regularisation helps solve overfitting**, which occurs when **a model performs well on training data but poorly on validation or test data**. Regularisation solves this problem by **adding a penalty term to the cost function, thereby controlling the model complexity with this penalty term.** \n",
    "\n",
    "It is useful for:\n",
    "\n",
    "1. Large number of variables\n",
    "2. Low ratio of number of observations to number of variables\n",
    "3. High multicollinearity\n",
    "\n",
    "There are two main types of regularisation: **L1 regularisation**, related to **MAE, Mean Absolute Error**, or the **absolute value of differences**, and **L2 regularisation**, which is related to **MSE, or Mean Square Error**, or the **square of differences**.\n",
    "\n",
    "**In general, L2 performs better than L1 and L2 is more computationally efficient**. \n",
    "\n",
    "##### Note on Feature Scaling\n",
    "\n",
    "**Feature Scaling standardises the range of features of data**. This is performed during data pre-processing, in part because gradient descent benefits from it. The assumption is that the data conforms to a standard normal distribution, and standardisation involves subtracting the mean and dividing by the standard deviation for every data point, resulting in a N(0,1) normal distribution.\n",
    "\n",
    "##### Note on Bias\n",
    "\n",
    "**Bias can be due to an error from wrong assumptions in a learning algorithm.** \n",
    "\n",
    "**High bias** can **cause an algorithm** to **miss relevant relations between features and target outputs (underfitting)**. \n",
    "\n",
    "**Prediction bias can occur because of noisy data, an incomplete feature set, or a biased training sample** \n",
    "\n",
    "Errors caused by bias can make the difference between the average prediction of your model and the correct value you want to predict. \n",
    "\n",
    "**The solution** is to **repeat the model-building process multiple times, gather new data each time, and produce an analysis to produce a new model**. These **resulting models** have a **range of predictions** because the **underlying datasets have a degree of randomness**. \n",
    "\n",
    "**Bias measures the distance of the predictions from these models to the correct value**. \n",
    "\n",
    "##### Note on Variance\n",
    "\n",
    "**Variance** is the **expected value of the squared deviation from the mean**. \n",
    "\n",
    "**High variance** can or might **cause an algorithm** to **model the random noise in the training data, rather than the intended outputs (overfitting).** \n",
    "\n",
    "**Adding parameters to a model increases its complexity and variance, while decreasing the bias.**\n",
    "\n",
    "**Dealing with bias and variance is dealing with underfitting and overfitting**. Error due to variance is the variability of a model prediction for a given data point. \n",
    "\n",
    "**The solution is the same as for Bias, and the variance is the extent to which predictions for a given point vary among different instances of that model**.\n",
    "\n",
    "##### Note on Performance Metrics\n",
    "\n",
    "One of the most frequently used metrics is **R-squared**, which measures **how close the data is to the fitted regression line (regression coefficient)**. The R-squared value is always a percentage between 0 and 100%, indicating **how much the model explains the variability of the response data around its mean.** In general, a **higher R-squared value indicates a better model**.\n",
    "\n",
    "Although high R-squared values are preferred, they are not necessarily laways good values. Low R-squared values are not always bad. For example, an R-squared value for predicting human behaviour is often less than 50%. Also, **R-squared cannot determine whether the coefficient estimates and predictions are biased, or whether a regression model is adequate**. **Thus it is possible to have a low R-squared value for a good model, or a high R-squared value for a poorly fitting model.** **Evaluate R-squared values in conjunction with residual plots, other model statistics, and subject area knowledge**. \n",
    "\n",
    "##### Note on Confusion Matrices\n",
    "\n",
    "A confusion matrix is an n x n table that shows the number of false positives, false negatives, true positives and true negatives a model provides. **The diagonal values of a confusion matrix are correct, whereas off-diagonal values are incorrect.** In general, **a low false positive value is better than a false negative value**. \n",
    "\n",
    "A 2x2 confusion matrix has four possible values representing the combinations of correct and incorrect classifications. The definitions of **Precision, Accuracy and Recall** are given by the following formulas:\n",
    "\n",
    "- 𝑃𝑟𝑒𝑐𝑖𝑠𝑖𝑜𝑛 = 𝑇𝑃/(𝑇𝑁 + 𝐹𝑃)\n",
    "- 𝐴𝑐𝑐𝑢𝑟𝑎𝑐𝑦 = (𝑇𝑃 + 𝑇𝑁)/[𝑃 + 𝑁]\n",
    "- 𝑅𝑒𝑐𝑎𝑙𝑙 = 𝑇𝑃/[𝑇𝑃 + 𝐹𝑁]\n",
    "\n",
    "**Accuracy can be unreliable as a metric because it yields misleading results in unbalanced datasets.**\n",
    "\n",
    "When the number of observations in different classes are significantly different, it gives equal importance to both false positive and false negative classifications. For example, declaring cancer as benign is worse than incorrectly telling people it's malign - Accuracy can't differentiate between these two cases. \n",
    "\n",
    "##### Note on Receiving Operating Characteristic (ROC)\n",
    "\n",
    "**The ROC curve is a curve that plots the true positive rate (TPR, i.e the recall) against the false positive rate (FPR).** Note that the true negative rate (TNR) is also called the specificity. The following links contains Python code using SKLearn and the Iris dataset, and also code for plotting the ROC:\n",
    "\n",
    "https://scikit-learn.org/stable/auto_examples/model_selection/plot_roc.html\n",
    "\n",
    "https://stackoverflow.com/questions/25009284/how-to-plot-roc-curve-inpython\n",
    "\n",
    "##### Other Useful Statistical Terms\n",
    "\n",
    "Machine Learning relies on a number of statistical quantities in order to assess the validity of a model. Here are some examples:\n",
    "\n",
    "- RSS (Residual Sum of Squares)\n",
    "- TSS (Total Sum of Squares)\n",
    "- R2 (R-Squared)\n",
    "- F1 score\n",
    "- p-value\n",
    "\n",
    "The definition of RSS, TSS, and R-squared are shown in the following, where 𝑦̂  is the y-coordinate of a point on a best fitting line and 𝑦̅ is the mean of the y-values of the points in the dataset:\n",
    "\n",
    "- 𝑅𝑆𝑆 = 𝑠𝑢𝑚 𝑜𝑓 𝑠𝑞𝑢𝑎𝑟𝑒𝑠 𝑜𝑓 𝑟𝑒𝑠𝑖𝑑𝑢𝑎𝑙𝑠 = (𝑦 − 𝑦̂)*2\n",
    "- 𝑇𝑆𝑆 = 𝑡𝑜𝑎𝑙 𝑠𝑢𝑚 𝑜𝑓 𝑠𝑞𝑢𝑎𝑟𝑒𝑠 = (𝑦 − 𝑦̅)*2\n",
    "- 𝑅2 = 1 − 𝑅𝑆𝑆/𝑇𝑆𝑆\n",
    "\n",
    "**F1 Score**\n",
    "\n",
    "**The F1 score is a measure of the accuracy of a test, and is defined as the harmonic mean of precision and recall.** Here are the relevant formulas, where **p is the precision and r is the recall:**\n",
    "\n",
    "- 𝑝 = (# 𝑜𝑓 𝑐𝑜𝑟𝑟𝑒𝑐𝑡 𝑝𝑜𝑠𝑖𝑡𝑖𝑣𝑒 𝑟𝑒𝑠𝑢𝑙𝑡𝑠)/(# 𝑜𝑓 𝑎𝑙𝑙 𝑝𝑜𝑠𝑖𝑡𝑖𝑣𝑒 𝑟𝑒𝑠𝑢𝑙𝑡𝑠)\n",
    "- 𝑟 = (# 𝑜𝑓 𝑐𝑜𝑟𝑟𝑒𝑐𝑡 𝑝𝑜𝑠𝑖𝑡𝑖𝑣𝑒 𝑟𝑒𝑠𝑢𝑙𝑡𝑠)/(# 𝑜𝑓 𝑎𝑙𝑙 𝑟𝑒𝑙𝑒𝑣𝑎𝑛𝑡 𝑠𝑎𝑚𝑝𝑙𝑒𝑠)\n",
    "- 𝐹1 − 𝑠𝑐𝑜𝑟𝑒 = 1/[((1/𝑟) + (1/𝑝))/2] = 2 × [𝑝 × 𝑟]/[𝑝 + 𝑟]\n",
    "\n",
    "An f1 score is considered **perfect when it is 1, and a total failure when it is 0**. Keep in mind that an f1 score tends to be **used to categorical classification problems**, while the **R2 value is typically for regression tasks**.\n",
    "\n",
    "**p-value**\n",
    "\n",
    "**The p-value is used to reject the null hypothesis if the p-value is small enough (<0.005) which indicates a higher significance**. The null hypothesis **states that there is no correlation between a dependent variable (such as y) and an independent variable (such as x)**. The **threshold value for p is typically between 1% and 5%.** There is no straightforward formula for calculating p-values, which are values that are always between 0 and 1. In fact, p-values are statistical quantities to evaluate the so-called null hypothesis, and they are calculated by means of p-value tables or via spredsheet/statistical software.\n",
    "\n",
    "### Linear Regression\n",
    "\n",
    "In **supervised learning**, the first sub-category we learn about is **regression analysis**, that is, the **prediction of continuous outcomes**. In regression analysis, **we are given a number of predictor (explanatory) variables and a continuous response variable (outcome), and we try to find a relationship between those variables that allow us to predict an outcome**. In ML, **predictor variables are called 'features' and response variables are called 'target variables'**.\n",
    "\n",
    "Regression models are used to **predict target variables on a continuous scale**, making them attractive for addressing many questions in science. \n",
    "\n",
    "The **goal** of linear regression is to **model the relationship between feature(s) and a continuous target variable**. Regression analysis is used to **predict outputs on a continuous scale rather than categorical class labels**. \n",
    "\n",
    "#### Simple Linear Regression\n",
    "\n",
    "**The goal of simple (univariate) linear regression is to model the relationship between a single feature (explanatory variable x) and a continuous-valued target (response variable y)**. The equation of a linear model with one explanatory variable is defined as follows:\n",
    "\n",
    "𝑦  =   𝑤0 + 𝑤1𝑥\n",
    "\n",
    "Here, the **weight w0 represents the y axis intercept** and **w1 is the weight coefficient of the explanatory variable**, geometrically **representing the gradient of the regression line**. The **gradient and y-intercept are commonly referred to as the weight and the bias**. \n",
    "\n",
    "**Our goal is to learn the weights of the linear equation to describe the relationship between the explanatory variable and the target variable, which can then be used to predict the responses of new explanatory variables not part of the training dataset**.\n",
    "\n",
    "Based on the linear equation defined above, linear regression can be understood as **finding the best-fitting line straight through the training examples. The best-fitting line is also called the regression line**, and the vertical lines from the regression lines to the training examples are the 'offsets' or 'residuals' - the errors of our prediction.\n",
    "\n",
    "#### Multiple Linear Regression\n",
    "\n",
    "In simple linear regression, it has only one explanatory variable. We can generalise the simple linear regression model to multiple explanatory variables - This is called **multiple linear regression**. \n",
    "\n",
    "### Linear Regression in Python\n",
    "\n",
    "The weights and dependent variables of the regression line can be represented as vectors m = [m1, m2, m3] and x = [x1, x2, x3]. To consolidate in Python 3, the linear regression function for 1-dimensional X can be defined as using list comprehension:"
   ]
  },
  {
   "cell_type": "code",
   "execution_count": 2,
   "id": "04523e18",
   "metadata": {},
   "outputs": [
    {
     "data": {
      "image/png": "[encoded data removed]",
      "text/plain": [
       "<Figure size 576x396 with 1 Axes>"
      ]
     },
     "metadata": {},
     "output_type": "display_data"
    }
   ],
   "source": [
    "import numpy as np\n",
    "import pandas as pd\n",
    "import matplotlib.pyplot as plt\n",
    "plt.style.use('seaborn')\n",
    "import random\n",
    "\n",
    "def f(m, X, c):\n",
    "    \"\"\"Linear regression\"\"\"\n",
    "    return [m * x + c for x in X]\n",
    "X = [i for i in range(10)]\n",
    "y = [x + random.random() for x in X]\n",
    "m, c = 1, 0\n",
    "y_hat = f(m, X, c)\n",
    "plt.plot(X, y, '.',c='r')\n",
    "plt.plot(X, y_hat)\n",
    "plt.show()"
   ]
  },
  {
   "cell_type": "markdown",
   "id": "d6d4ab4f",
   "metadata": {},
   "source": [
    "The linear regression y = 1 * X  + 0,  where the gradient is m=1 and the y-intercept is c=0 seems to fit the data well but a quantifiable measure is required in order to compare between models with different values of m and c.\n",
    "\n",
    "The error of the model can be quantified in terms of the difference between y, the actual output, and y_hat, the prediction of the model. One error measure is **mean squared error**.\n",
    "\n",
    "**Mean Squared Error (MSE)**:"
   ]
  },
  {
   "cell_type": "code",
   "execution_count": 3,
   "id": "d05ab33a",
   "metadata": {},
   "outputs": [],
   "source": [
    "def MSE(y, y_hat):\n",
    "    \"\"\"Mean Squared Error\"\"\"\n",
    "    c = 0\n",
    "    n = len(y)\n",
    "    for i in range(n):\n",
    "        c += (y_hat[i] - y[i]) ** 2\n",
    "    return 1/2 * c/n"
   ]
  },
  {
   "cell_type": "markdown",
   "id": "a2a8afd8",
   "metadata": {},
   "source": [
    "**A lower mean squared error indicates parameters that result in a better fitting linear regression model.** The **goal of optimising a model** is to **minimise the error**. Therefore, **an optimisation algorithm**, such as gradient descent, **is\n",
    "required**.\n",
    "\n",
    "##### Gradient Descent\n",
    "\n",
    "Gradient descent is an **optimisation algorithm** for **finding the local minimum** of a **differentiable function**. The loss function:\n",
    "\n",
    "**MSE = (y_hat - y)**2** of a linear regression model may be minimised to improve model fitness.\n",
    "\n",
    "In the following diagram the vertical axis represents the MSE while the horizontal axis represents a weight, e.g m. By changing the value of m, the MSE may increase or decrease. To minimise MSE, m must move towards a direction where MSE decreases. \n",
    "\n",
    "https://www.google.com/url?sa=i&url=https%3A%2F%2Fwww.kdnuggets.com%2F2020%2F05%2F5-concepts-gradient-descent-cost-function.html&psig=AOvVaw2D-4fIEVbDUeaUf1xcY3xi&ust=1670334247978000&source=images&cd=vfe&ved=0CA8QjRxqFwoTCNDQu43O4vsCFQAAAAAdAAAAABAE\n",
    "\n",
    "**The key step in gradient descent is the weight update, where the weights are changed according to the learning rate, a hyperparameter that determines how much weights change by. The bias, c, also changes in the same way**.\n",
    "\n",
    "Here is the gradient descent algorithm:"
   ]
  },
  {
   "cell_type": "code",
   "execution_count": 9,
   "id": "aba56c51",
   "metadata": {},
   "outputs": [
    {
     "name": "stdout",
     "output_type": "stream",
     "text": [
      "Epoch 0: weight=1.05, bias=0.01\n",
      "Epoch 1: weight=1.07, bias=0.02\n",
      "Epoch 2: weight=1.08, bias=0.02\n",
      "Epoch 3: weight=1.08, bias=0.02\n",
      "Epoch 4: weight=1.08, bias=0.03\n",
      "Epoch 5: weight=1.08, bias=0.03\n",
      "Epoch 6: weight=1.08, bias=0.03\n",
      "Epoch 7: weight=1.08, bias=0.03\n",
      "Epoch 8: weight=1.08, bias=0.04\n",
      "Epoch 9: weight=1.08, bias=0.04\n"
     ]
    },
    {
     "data": {
      "image/png": "[encoded data removed]",
      "text/plain": [
       "<Figure size 576x396 with 1 Axes>"
      ]
     },
     "metadata": {},
     "output_type": "display_data"
    }
   ],
   "source": [
    "epochs = 10\n",
    "weight = 1\n",
    "bias = 0\n",
    "learning_rate = 0.01\n",
    "\n",
    "for i in range(epochs):\n",
    "    y_hat = f(weight, X, bias)\n",
    "    n = len(y_hat)\n",
    "    \n",
    "    # compute partial derivatives of MSE w.r.t. m and c\n",
    "    \n",
    "    dm = (-2/n) * sum([X[i] * (y[i] - y_hat[i]) for i in range(n)])\n",
    "    dc = (-2/n) * sum([y[i] - y_hat[i] for i in range(n)])\n",
    "    \n",
    "    # update weight and bias\n",
    "    \n",
    "    weight = weight - learning_rate * dm\n",
    "    bias = bias - learning_rate * dc\n",
    "    print(f\"Epoch {i}: weight={weight:.2f}, bias={bias:.2f}\")\n",
    "    \n",
    "y_hat = f(weight, X, bias)\n",
    "plt.plot(X, y, ',', c='r')\n",
    "plt.plot(X,y_hat)\n",
    "plt.show()"
   ]
  },
  {
   "cell_type": "code",
   "execution_count": 6,
   "id": "750ff68e",
   "metadata": {},
   "outputs": [
    {
     "name": "stdout",
     "output_type": "stream",
     "text": [
      "Epoch 0: m=1.05, c=0.01\n",
      "Epoch 1: m=1.07, c=0.02\n",
      "Epoch 2: m=1.08, c=0.02\n",
      "Epoch 3: m=1.08, c=0.02\n",
      "Epoch 4: m=1.08, c=0.03\n",
      "Epoch 5: m=1.08, c=0.03\n",
      "Epoch 6: m=1.08, c=0.03\n",
      "Epoch 7: m=1.08, c=0.03\n",
      "Epoch 8: m=1.08, c=0.04\n",
      "Epoch 9: m=1.08, c=0.04\n"
     ]
    },
    {
     "data": {
      "image/png": "[encoded data removed]",
      "text/plain": [
       "<Figure size 576x396 with 1 Axes>"
      ]
     },
     "metadata": {},
     "output_type": "display_data"
    }
   ],
   "source": [
    "e, m, c, a = 10, 1, 0, 0.01\n",
    "for i in range(e):\n",
    "    y_hat = f(m, X, c)\n",
    "    n = len(y_hat)\n",
    "    # Compute partial derivatives of MSE w.r.t. m and c\n",
    "    dm = (-2/n) * sum([X[i] * (y[i] - y_hat[i]) for i in range(n)])\n",
    "    dc = (-2/n) * sum([y[i] - y_hat[i] for i in range(n)])\n",
    "    # Update weight and bias\n",
    "    m = m - a * dm\n",
    "    c = c - a * dc\n",
    "    print(f\"Epoch {i}: m={m:.2f}, c={c:.2f}\")\n",
    "    \n",
    "y_hat = f(m, X, c)\n",
    "plt.plot(X, y, '.', c='r')\n",
    "plt.plot(X, y_hat)\n",
    "plt.show()"
   ]
  },
  {
   "cell_type": "markdown",
   "id": "68858199",
   "metadata": {},
   "source": [
    "In order to perform linear regression in python, all we have to do is apply the proper packages and their functions and classes."
   ]
  },
  {
   "cell_type": "markdown",
   "id": "d254b7ff",
   "metadata": {},
   "source": [
    "### Python Packages for Linear Regression\n",
    "\n",
    "The packages we will use are **NumPy** and **scikit-learn**, a widely  used Python library for machine learning built on Numpy and some other packages. It provides the means for pre-processing data, reducing dimensionality, implementing regression, classificiation, clustering etc. Like NumPy sci-kit learn is also open source. \n",
    "\n",
    "If we need to know how something in sci-kit learn works, we can check the documentation. \n",
    "\n",
    "If we want to implement linear regression and **need functionality beyond the scope of sci-kit learn, we should consider statsmodels**. It's a powerful python package for the estimation of statistical models, performing tests, and more.\n",
    "\n",
    "### Simple Linear Regression with Sci-kit Learn\n",
    "\n",
    "Let's start with the simplest case - simple linear regression.\n",
    "\n",
    "There are **five basic steps** to **implement linear regression**:\n",
    "\n",
    "1. Import the packages and classes we need\n",
    "\n",
    "2. Provide data to work with and eventually do appropriate transformations\n",
    "\n",
    "3. Create a regression model and fit it with our data\n",
    "\n",
    "4. Check the results of model fitting to know whether the model is sound\n",
    "\n",
    "5. Apply the model for predictions\n",
    "\n",
    "#### Step 1. Import Packages and Classes\n",
    "\n",
    "The first step is to import numpy and the class LinearRegression from sklearn.linear_model:"
   ]
  },
  {
   "cell_type": "code",
   "execution_count": 12,
   "id": "3fb3ca90",
   "metadata": {},
   "outputs": [],
   "source": [
    "import numpy as np\n",
    "from sklearn.linear_model import LinearRegression"
   ]
  },
  {
   "cell_type": "markdown",
   "id": "e8a22a51",
   "metadata": {},
   "source": [
    "Now we have all the functionalities we need to implement linear regression. \n",
    "\n",
    "**The fundamental data type of NumPy is the array type called numpy.ndarray, hereafter referred to as array**. \n",
    "\n",
    "**The class sklearn.linear_model.LinearRegression will be used to perform linear and polynomial regression and make predictions accordingly**. \n",
    "\n",
    "##### Step 2. Provide Data\n",
    "\n",
    "**Now we define some data to work with. The inputs (regressors, x) and output (predictor, y) should be arrays or similar objects.**\n",
    "\n",
    "Here is a simple way of providing some data for regression:"
   ]
  },
  {
   "cell_type": "code",
   "execution_count": 13,
   "id": "8e0d43ad",
   "metadata": {},
   "outputs": [],
   "source": [
    "x = np.array([5,15,25,35,45,55]).reshape((-1,1))\n",
    "y = np.array([5,20,14,32,22,38])"
   ]
  },
  {
   "cell_type": "markdown",
   "id": "44db4813",
   "metadata": {},
   "source": [
    "Now we have two arrays, the **input x and output y**. **We should call reshape() on x because this array is required to be two-dimensional, or to be more precise, to have one column and as many rows as necessary**. That's exactly what the argument (-1, 1) of reshape() specifies.\n",
    "\n",
    "This is how x and y look now:"
   ]
  },
  {
   "cell_type": "code",
   "execution_count": 16,
   "id": "8755bc81",
   "metadata": {
    "scrolled": true
   },
   "outputs": [
    {
     "data": {
      "text/plain": [
       "(array([[ 5],\n",
       "        [15],\n",
       "        [25],\n",
       "        [35],\n",
       "        [45],\n",
       "        [55]]),\n",
       " array([ 5, 20, 14, 32, 22, 38]))"
      ]
     },
     "execution_count": 16,
     "metadata": {},
     "output_type": "execute_result"
    }
   ],
   "source": [
    "x, y"
   ]
  },
  {
   "cell_type": "code",
   "execution_count": 17,
   "id": "e4125b0e",
   "metadata": {},
   "outputs": [
    {
     "data": {
      "text/plain": [
       "(6, 1)"
      ]
     },
     "execution_count": 17,
     "metadata": {},
     "output_type": "execute_result"
    }
   ],
   "source": [
    "x.shape"
   ]
  },
  {
   "cell_type": "code",
   "execution_count": 18,
   "id": "b31451b6",
   "metadata": {},
   "outputs": [
    {
     "data": {
      "text/plain": [
       "(6,)"
      ]
     },
     "execution_count": 18,
     "metadata": {},
     "output_type": "execute_result"
    }
   ],
   "source": [
    "y.shape"
   ]
  },
  {
   "cell_type": "markdown",
   "id": "a0131563",
   "metadata": {},
   "source": [
    "As we can see, x has two dimensions, and x.shape is (6, 1), while y has a single dimension, and its shape is (6,).\n",
    "\n",
    "#### Step 3. Create a Model and Fit it\n",
    "\n",
    "**The next step is to create a linear regression model and fit it with our data.**\n",
    "\n",
    "Let's create an instance of the class LinearRegression, which represents the regression model."
   ]
  },
  {
   "cell_type": "code",
   "execution_count": 19,
   "id": "c0a187b4",
   "metadata": {},
   "outputs": [],
   "source": [
    "model = LinearRegression()"
   ]
  },
  {
   "cell_type": "markdown",
   "id": "c23dd8df",
   "metadata": {},
   "source": [
    "There are several **optional parameters** to LinearRegression:\n",
    "\n",
    "- fit_intercept is a Boolean [True by default] that decides whether to calculate the intercept [True] or consider it equal to zero [false]\n",
    "- normalize is a Boolean [False by default] that decides whether to normalize the input variables [True] or not [False]\n",
    "- copy_X is a Boolean [True by default] that decides whether to copy [True] or overwrite the input variables [False]\n",
    "- n_jobs is an integer or None [default] and represents the number of jobs used in parallel computation. None usually means one job and -1 to use all processors.\n",
    "\n",
    "It's time to start using the model. **First, we need to call .fit() on our model**:"
   ]
  },
  {
   "cell_type": "code",
   "execution_count": 20,
   "id": "c1e73a99",
   "metadata": {},
   "outputs": [
    {
     "data": {
      "text/plain": [
       "LinearRegression()"
      ]
     },
     "execution_count": 20,
     "metadata": {},
     "output_type": "execute_result"
    }
   ],
   "source": [
    "model.fit(x,y)"
   ]
  },
  {
   "cell_type": "markdown",
   "id": "72048415",
   "metadata": {},
   "source": [
    "**With .fit(), you calculate the optimal values of the weights b0 and b1 using the existing input and output (x and y) as the arguments. In other words, .fit() fits the model**. It returns itself, which in our case, is the variable 'model' itself. We cna therefore replace the last two statements with:"
   ]
  },
  {
   "cell_type": "code",
   "execution_count": 21,
   "id": "c72218ee",
   "metadata": {},
   "outputs": [],
   "source": [
    "model = LinearRegression().fit(x,y)"
   ]
  },
  {
   "cell_type": "markdown",
   "id": "cf67a29d",
   "metadata": {},
   "source": [
    "#### Step 4. Get Results\n",
    "\n",
    "**Once we have our model fitted, we can get the results to check whether the model works satisfactorily and interpret it.**\n",
    "\n",
    "We can obtain the **coefficient of determination** (R2) by calling **.score()**."
   ]
  },
  {
   "cell_type": "code",
   "execution_count": 24,
   "id": "52df7145",
   "metadata": {},
   "outputs": [
    {
     "name": "stdout",
     "output_type": "stream",
     "text": [
      "Coefficient of determination: 0.715875613747954\n"
     ]
    }
   ],
   "source": [
    "r_sq = model.score(x,y)\n",
    "print('Coefficient of determination:', r_sq)"
   ]
  },
  {
   "cell_type": "markdown",
   "id": "a8205b34",
   "metadata": {},
   "source": [
    "**When we're applying .score(), the arguments are also the predictor x and regressor y, and the return value is R-squared.**\n",
    "\n",
    "**The attributes of our model are .intercept_, which represents the coefficient b0 and .coeff_, which represents b1**:"
   ]
  },
  {
   "cell_type": "code",
   "execution_count": 25,
   "id": "2f4bb508",
   "metadata": {},
   "outputs": [
    {
     "name": "stdout",
     "output_type": "stream",
     "text": [
      "Intercept: 5.633333333333329\n"
     ]
    }
   ],
   "source": [
    "print('Intercept:', model.intercept_)"
   ]
  },
  {
   "cell_type": "code",
   "execution_count": 26,
   "id": "603a39b9",
   "metadata": {},
   "outputs": [
    {
     "name": "stdout",
     "output_type": "stream",
     "text": [
      "Slope: [0.54]\n"
     ]
    }
   ],
   "source": [
    "print('Slope:', model.coef_)"
   ]
  },
  {
   "cell_type": "markdown",
   "id": "985ee128",
   "metadata": {},
   "source": [
    "The code above illustrates **how to get b0 and b1.** You can notice that **.intercept_ is a scalar, while .coef_ is an array.**\n",
    "\n",
    "The value b0 = 5.63 (approximately) illustrates that your model predicts the response 5.63 when x is zero. The value b1 = 0.54 means that the predicted response rises by 0.54 when x is increased by one.\n",
    "\n",
    "You should notice that **you can provide y as a two-dimensional array as well. In this case, we'll get a similar result**. This is how it might look:"
   ]
  },
  {
   "cell_type": "code",
   "execution_count": 27,
   "id": "a66065c8",
   "metadata": {},
   "outputs": [
    {
     "name": "stdout",
     "output_type": "stream",
     "text": [
      "Intercept: [5.63333333]\n"
     ]
    }
   ],
   "source": [
    "new_model = LinearRegression().fit(x, y.reshape((-1,1)))\n",
    "print('Intercept:', new_model.intercept_)"
   ]
  },
  {
   "cell_type": "code",
   "execution_count": 28,
   "id": "2cfb6c93",
   "metadata": {},
   "outputs": [
    {
     "name": "stdout",
     "output_type": "stream",
     "text": [
      "Slope: [[0.54]]\n"
     ]
    }
   ],
   "source": [
    "print('Slope:', new_model.coef_)"
   ]
  },
  {
   "cell_type": "markdown",
   "id": "c49666b6",
   "metadata": {},
   "source": [
    "This example is very similar to the previous one, but in this case **.intercept_** is a 1D array with the single element B0 and  **.coef_** is a 2D array with the single element B1.\n",
    "\n",
    "#### Step 5. Predict Response\n",
    "\n",
    "Once we have a satisfactory model, we can use it for predictions with either existing or new data.\n",
    "\n",
    "To obtain the predicted response, use **.predict()**"
   ]
  },
  {
   "cell_type": "code",
   "execution_count": 30,
   "id": "c95dbc3b",
   "metadata": {},
   "outputs": [
    {
     "name": "stdout",
     "output_type": "stream",
     "text": [
      "Predicted response:\n",
      "[[ 8.33333333]\n",
      " [13.73333333]\n",
      " [19.13333333]\n",
      " [24.53333333]\n",
      " [29.93333333]\n",
      " [35.33333333]]\n"
     ]
    }
   ],
   "source": [
    "y_pred = model.intercept_ + model.coef_ * x\n",
    "print('Predicted response:', y_pred, sep='\\n')"
   ]
  },
  {
   "cell_type": "markdown",
   "id": "b26707f5",
   "metadata": {},
   "source": [
    "In this case, remember that x is an array, and **we are multiplying each element of x with model.coef_ and adding model.intercept_ to the product.**\n",
    "\n",
    "The output here differs from the previous example only in dimensions. The predicted response is now a 2D array, while in the previous case it had only one dimension.\n",
    "\n",
    "**If we reduce the number of dimensions of x to one, these two approaches will yield the same result. We can do this by replacing x with x.reshape(-1), x.flatten(), or x.ravel() when multiplying it with the model.coef_**. \n",
    "\n",
    "In practice, regression models are often applied for forcecasts. **This means you can use fitted models to calculate the outputs based on some other, new inputs:**"
   ]
  },
  {
   "cell_type": "code",
   "execution_count": 31,
   "id": "38261ea0",
   "metadata": {},
   "outputs": [
    {
     "data": {
      "text/plain": [
       "array([[0],\n",
       "       [1],\n",
       "       [2],\n",
       "       [3],\n",
       "       [4]])"
      ]
     },
     "execution_count": 31,
     "metadata": {},
     "output_type": "execute_result"
    }
   ],
   "source": [
    "x_new = np.arange(5).reshape((-1,1))\n",
    "x_new"
   ]
  },
  {
   "cell_type": "code",
   "execution_count": 32,
   "id": "f507a28b",
   "metadata": {},
   "outputs": [
    {
     "data": {
      "text/plain": [
       "array([5.63333333, 6.17333333, 6.71333333, 7.25333333, 7.79333333])"
      ]
     },
     "execution_count": 32,
     "metadata": {},
     "output_type": "execute_result"
    }
   ],
   "source": [
    "y_new = model.predict(x_new)\n",
    "y_new"
   ]
  },
  {
   "cell_type": "markdown",
   "id": "b2424695",
   "metadata": {},
   "source": [
    "**Here, .predict() is applied to the new regressor x_new, and yields the response y_new**. This example uses arange() from NumPy to generate an array with the elements from 0 (inclusive) up to the specified number.\n",
    "\n",
    "### Multiple Linear Regression with Scikit-Learn\n",
    "\n",
    "**You can implement multiple linear regression following the same steps as you would for simple regression.**\n",
    "\n",
    "#### Steps 1 and 2. Import Packages and Classes, Provide Data\n",
    "\n",
    "First we import numpy and sklearn.linear_model.LinearRegression and provide known inputs and outputs."
   ]
  },
  {
   "cell_type": "code",
   "execution_count": 33,
   "id": "8e64d618",
   "metadata": {},
   "outputs": [],
   "source": [
    "import numpy as np\n",
    "from sklearn.linear_model import LinearRegression\n",
    "\n",
    "x = [[0,1], [5,1], [15,2], [25,5], [35,11], [45,15], [55,34], [60,35]]\n",
    "y = [4,5,20,14,32,22,38,43]\n",
    "x, y = np.array(x), np.array(y)"
   ]
  },
  {
   "cell_type": "markdown",
   "id": "8769c8e9",
   "metadata": {},
   "source": [
    "This is a simple way to define the input x and output y. We can print x and y to see how they look."
   ]
  },
  {
   "cell_type": "code",
   "execution_count": 34,
   "id": "82265fc7",
   "metadata": {},
   "outputs": [
    {
     "data": {
      "text/plain": [
       "(array([[ 0,  1],\n",
       "        [ 5,  1],\n",
       "        [15,  2],\n",
       "        [25,  5],\n",
       "        [35, 11],\n",
       "        [45, 15],\n",
       "        [55, 34],\n",
       "        [60, 35]]),\n",
       " array([ 4,  5, 20, 14, 32, 22, 38, 43]))"
      ]
     },
     "execution_count": 34,
     "metadata": {},
     "output_type": "execute_result"
    }
   ],
   "source": [
    "x, y"
   ]
  },
  {
   "cell_type": "markdown",
   "id": "6af5e99a",
   "metadata": {},
   "source": [
    "**In multiple linear regression, x is a 2D array with at least two columns, while y is usually a 1D array.** This is a simple example of multiple linear regression, and x has exactly two columns.\n",
    "\n",
    "##### Step 3. Create a Model and Fit\n",
    "\n",
    "The next step is to create an instance of LinearRegression and fit it with **.fit()**"
   ]
  },
  {
   "cell_type": "code",
   "execution_count": 35,
   "id": "3ff78d34",
   "metadata": {},
   "outputs": [],
   "source": [
    "model = LinearRegression().fit(x,y)"
   ]
  },
  {
   "cell_type": "markdown",
   "id": "f6145918",
   "metadata": {},
   "source": [
    "#### Step 4. Get Results\n",
    "\n",
    "**You can obtain the properties of the model the same way you would for simple linear regression.**"
   ]
  },
  {
   "cell_type": "code",
   "execution_count": 36,
   "id": "66235522",
   "metadata": {},
   "outputs": [
    {
     "name": "stdout",
     "output_type": "stream",
     "text": [
      "Coefficient of determination: 0.8615939258756775\n"
     ]
    }
   ],
   "source": [
    "r_sq = model.score(x,y)\n",
    "print('Coefficient of determination:', r_sq)"
   ]
  },
  {
   "cell_type": "code",
   "execution_count": 37,
   "id": "ae550877",
   "metadata": {},
   "outputs": [
    {
     "name": "stdout",
     "output_type": "stream",
     "text": [
      "Intercept 5.52257927519819\n"
     ]
    }
   ],
   "source": [
    "print('Intercept', model.intercept_)"
   ]
  },
  {
   "cell_type": "code",
   "execution_count": 38,
   "id": "9aa81a84",
   "metadata": {},
   "outputs": [
    {
     "name": "stdout",
     "output_type": "stream",
     "text": [
      "Slope [0.44706965 0.25502548]\n"
     ]
    }
   ],
   "source": [
    "print('Slope', model.coef_)"
   ]
  },
  {
   "cell_type": "markdown",
   "id": "26be773f",
   "metadata": {},
   "source": [
    "**You obtain the value of R-squared using .score()**\n",
    "\n",
    "**You obtain the values of the estimators of regression coefficients with .intercept_ and .coef_**\n",
    "\n",
    "**.intercept_ holds the bias b0 while now .coef_ is an array containing b1 and b2 respectively.**\n",
    "\n",
    "In this example, the intercept is approximately 5.52, and this is the value of the predicted response when x1 = x2 = 0. The increase of x1 by 1 yields the rise of the predicted response by 0.45. Similarly when x2 grows by 1, the response rises by 0.26.\n",
    "\n",
    "#### Step 5. Predict Response\n",
    "\n",
    "Predictions work the same way as in the case of simple linear regression:"
   ]
  },
  {
   "cell_type": "code",
   "execution_count": 40,
   "id": "c400e367",
   "metadata": {},
   "outputs": [
    {
     "name": "stdout",
     "output_type": "stream",
     "text": [
      "Predicted response:\n",
      "[ 5.77760476  8.012953   12.73867497 17.9744479  23.97529728 29.4660957\n",
      " 38.78227633 41.27265006]\n"
     ]
    }
   ],
   "source": [
    "y_pred = model.predict(x)\n",
    "print('Predicted response:', y_pred, sep='\\n')"
   ]
  },
  {
   "cell_type": "markdown",
   "id": "c7beaf42",
   "metadata": {},
   "source": [
    "**The predicted response is obtained with .predict()**, which is very similar to the following:"
   ]
  },
  {
   "cell_type": "code",
   "execution_count": 41,
   "id": "447f8678",
   "metadata": {},
   "outputs": [
    {
     "name": "stdout",
     "output_type": "stream",
     "text": [
      "Predicted response\n",
      "[ 5.77760476  8.012953   12.73867497 17.9744479  23.97529728 29.4660957\n",
      " 38.78227633 41.27265006]\n"
     ]
    }
   ],
   "source": [
    "y_pred = model.intercept_ + np.sum(model.coef_ * x, axis=1)\n",
    "print('Predicted response', y_pred, sep='\\n')"
   ]
  },
  {
   "cell_type": "markdown",
   "id": "07a0112e",
   "metadata": {},
   "source": [
    "**You can predict the output values by multiplying each column of the input with the appropriate weight, summing the results and adding the intercept to the sum.**\n",
    "\n",
    "You can apply this model to new data as well:"
   ]
  },
  {
   "cell_type": "code",
   "execution_count": 42,
   "id": "a86549f8",
   "metadata": {},
   "outputs": [
    {
     "data": {
      "text/plain": [
       "array([[0, 1],\n",
       "       [2, 3],\n",
       "       [4, 5],\n",
       "       [6, 7],\n",
       "       [8, 9]])"
      ]
     },
     "execution_count": 42,
     "metadata": {},
     "output_type": "execute_result"
    }
   ],
   "source": [
    "x_new = np.arange(10).reshape((-1,2))\n",
    "x_new"
   ]
  },
  {
   "cell_type": "code",
   "execution_count": 43,
   "id": "f048d80b",
   "metadata": {},
   "outputs": [
    {
     "data": {
      "text/plain": [
       "array([ 5.77760476,  7.18179502,  8.58598528,  9.99017554, 11.3943658 ])"
      ]
     },
     "execution_count": 43,
     "metadata": {},
     "output_type": "execute_result"
    }
   ],
   "source": [
    "y_new = model.predict(x_new)\n",
    "y_new"
   ]
  },
  {
   "cell_type": "markdown",
   "id": "0e73e22e",
   "metadata": {},
   "source": [
    "### Polynomial Regression with Scikit-Learn\n",
    "\n",
    "**Implementing polynomial regression with scikit-learn is very similar to linear regression. There is one extra step - To transform the array of inputs to include non-linear terms such as x2**. \n",
    "\n",
    "#### Step 1. Import Packages and Classes\n",
    "\n",
    "In addition to numpy and sklearn.linear_model.LinearRegression, **we should also import the class PolynomialFeatures from sklearn.preprocessing**:"
   ]
  },
  {
   "cell_type": "code",
   "execution_count": 44,
   "id": "5621f44a",
   "metadata": {},
   "outputs": [],
   "source": [
    "import numpy as np\n",
    "from sklearn.linear_model import LinearRegression\n",
    "from sklearn.preprocessing import PolynomialFeatures"
   ]
  },
  {
   "cell_type": "markdown",
   "id": "25c381f0",
   "metadata": {},
   "source": [
    "#### Step 2a. Provide Data\n",
    "\n",
    "This step defines the input and output and is the same in the case of linear regression."
   ]
  },
  {
   "cell_type": "code",
   "execution_count": 62,
   "id": "13e50f90",
   "metadata": {},
   "outputs": [],
   "source": [
    "x = np.array([5,15,25,35,45,55]).reshape((-1,1))\n",
    "y = np.array([15,11,2,8,25,32])"
   ]
  },
  {
   "cell_type": "markdown",
   "id": "402a2e86",
   "metadata": {},
   "source": [
    "Now we have the input and ouput in a suitable format. **Keep in mind we need the input to be a 2D array - That's why .reshape() is used.**\n",
    "\n",
    "##### Step 2b. Transform Input Data\n",
    "\n",
    "This is the **new step** we need to implement for polynomial regression. As seen earlier, **we need to include x2 and perhaps other additional features when implementing polynomial regression.** For that reason, we transform the input array x to contain the additional column(s) with the values x2 (and eventually more features).\n",
    "\n",
    "It's possible to transform the input array in several ways (like using **.insert()** from numpy), but the class PolynomialFeatures is very convenient for this purpose. Let's create an instance of it:"
   ]
  },
  {
   "cell_type": "code",
   "execution_count": 49,
   "id": "1b5231a1",
   "metadata": {},
   "outputs": [],
   "source": [
    "transformer = PolynomialFeatures(degree=2, include_bias=False)"
   ]
  },
  {
   "cell_type": "markdown",
   "id": "1de31b6c",
   "metadata": {},
   "source": [
    "The variable transformer refers to an instance of **PolynomialFeatures** which you can use to transform the input x.\n",
    "\n",
    "You can provide several optional parameters to **PolynomialFeatures**:\n",
    "\n",
    "- **degree** is an interger (2 by default) that represents the degree of the polynomial regression function\n",
    "\n",
    "- **interaction_only** is a Boolean [False by default] that decides whether to include only interaction features [True] or all features [False]\n",
    "\n",
    "- **include_bias** is a Boolean [True by default] that decides whether to include the bias [intercept] column of ones [True] or not [False]\n",
    "\n",
    "This example uses the default values of all parameters, but sometimes you will want to experiment with the degree of the function, and it can be beneficial to provide this argument anyway.\n",
    "\n",
    "Before applying transformer, we need to **fit it with .fit()**."
   ]
  },
  {
   "cell_type": "code",
   "execution_count": 50,
   "id": "a28222b4",
   "metadata": {},
   "outputs": [
    {
     "data": {
      "text/plain": [
       "PolynomialFeatures(include_bias=False)"
      ]
     },
     "execution_count": 50,
     "metadata": {},
     "output_type": "execute_result"
    }
   ],
   "source": [
    "transformer.fit(x)"
   ]
  },
  {
   "cell_type": "markdown",
   "id": "e9838590",
   "metadata": {},
   "source": [
    "**Once our transformer is fitted, it's ready to create a new, modified input. To do this, apply .transform()**:"
   ]
  },
  {
   "cell_type": "code",
   "execution_count": 51,
   "id": "45c6ee64",
   "metadata": {},
   "outputs": [],
   "source": [
    "x_ = transformer.transform(x)"
   ]
  },
  {
   "cell_type": "markdown",
   "id": "5ca87fee",
   "metadata": {},
   "source": [
    "**This is the transformation of the input array with .transform(). It takes the input array as the argument and returns the modified array.**\n",
    "\n",
    "**You can also use .fit_transform() to replace the three previous statements with only one:**"
   ]
  },
  {
   "cell_type": "code",
   "execution_count": 56,
   "id": "a6deed6d",
   "metadata": {},
   "outputs": [
    {
     "data": {
      "text/plain": [
       "array([[   5.,   25.],\n",
       "       [  15.,  225.],\n",
       "       [  25.,  625.],\n",
       "       [  35., 1225.],\n",
       "       [  45., 2025.],\n",
       "       [  55., 3025.]])"
      ]
     },
     "execution_count": 56,
     "metadata": {},
     "output_type": "execute_result"
    }
   ],
   "source": [
    "x_ = PolynomialFeatures(degree=2, include_bias=False).fit_transform(x)\n",
    "x_"
   ]
  },
  {
   "cell_type": "markdown",
   "id": "1f7c3a84",
   "metadata": {},
   "source": [
    "**The modified input array contains two columns: One with the original inputs and the other with their squares.**\n",
    "\n",
    "#### Step 3: Create a Model and Fit it\n",
    "\n",
    "This step is also the same as in the case of linear regression. You create and fit the model:"
   ]
  },
  {
   "cell_type": "code",
   "execution_count": 63,
   "id": "b16205e4",
   "metadata": {},
   "outputs": [],
   "source": [
    "model = LinearRegression().fit(x_, y)"
   ]
  },
  {
   "cell_type": "markdown",
   "id": "048c91ca",
   "metadata": {},
   "source": [
    "The regression model is now created and fitted. It's ready for application.\n",
    "\n",
    "You should keep in mind that **the first argument of .fit() is the modified input array x_, and not the original x**. \n",
    "\n",
    "#### Step 4. Get Results\n",
    "\n",
    "**You can obtain the properties of the model the same way as in the case of linear regression.**"
   ]
  },
  {
   "cell_type": "code",
   "execution_count": 64,
   "id": "fb022652",
   "metadata": {},
   "outputs": [
    {
     "name": "stdout",
     "output_type": "stream",
     "text": [
      "Coefficient of determination: 0.8908516262498564\n"
     ]
    }
   ],
   "source": [
    "r_sq = model.score(x_, y)\n",
    "print('Coefficient of determination:', r_sq)"
   ]
  },
  {
   "cell_type": "code",
   "execution_count": 65,
   "id": "570b0b6a",
   "metadata": {},
   "outputs": [
    {
     "name": "stdout",
     "output_type": "stream",
     "text": [
      "Intercept: 21.372321428571425\n"
     ]
    }
   ],
   "source": [
    "print('Intercept:', model.intercept_)"
   ]
  },
  {
   "cell_type": "code",
   "execution_count": 66,
   "id": "f36bb3a8",
   "metadata": {},
   "outputs": [
    {
     "name": "stdout",
     "output_type": "stream",
     "text": [
      "Coefficients: [-1.32357143  0.02839286]\n"
     ]
    }
   ],
   "source": [
    "print('Coefficients:', model.coef_)"
   ]
  },
  {
   "cell_type": "markdown",
   "id": "af52fd95",
   "metadata": {},
   "source": [
    "Again, **.score() returns R-squared**. Its first argument is also the modified input x_, not x. The values of the weights are associated to **.intercept_ and .coef_**. **.intercept_ represents b0, while .coef_ references the array that contains b1 and b2 respectively.**\n",
    "\n",
    "You can obtain a very similar result with different transformation and regression elements:"
   ]
  },
  {
   "cell_type": "code",
   "execution_count": 67,
   "id": "f89f7842",
   "metadata": {},
   "outputs": [],
   "source": [
    "x_ = PolynomialFeatures(degree=2, include_bias=True).fit_transform(x)"
   ]
  },
  {
   "cell_type": "markdown",
   "id": "5b73baea",
   "metadata": {},
   "source": [
    "If you call **PolynomialFeatures** with the default parameter **include_bias=True** you'll obtain the new **input array x_ with the additional leftmost column containing only ones**. This column corresponds to the intercept. This is how the modified input array looks:"
   ]
  },
  {
   "cell_type": "code",
   "execution_count": 68,
   "id": "21527201",
   "metadata": {},
   "outputs": [
    {
     "data": {
      "text/plain": [
       "array([[1.000e+00, 5.000e+00, 2.500e+01],\n",
       "       [1.000e+00, 1.500e+01, 2.250e+02],\n",
       "       [1.000e+00, 2.500e+01, 6.250e+02],\n",
       "       [1.000e+00, 3.500e+01, 1.225e+03],\n",
       "       [1.000e+00, 4.500e+01, 2.025e+03],\n",
       "       [1.000e+00, 5.500e+01, 3.025e+03]])"
      ]
     },
     "execution_count": 68,
     "metadata": {},
     "output_type": "execute_result"
    }
   ],
   "source": [
    "x_"
   ]
  },
  {
   "cell_type": "markdown",
   "id": "47eb3c24",
   "metadata": {},
   "source": [
    "The **first column contains ones**, the **second has the values of x**, and the **third has the squares of x.** The **intercept is already included with the leftmost column**, and you **don't need to include it again when creating the instance of LinearRegression**. **Thus you can provide fit_intercept=False.**"
   ]
  },
  {
   "cell_type": "code",
   "execution_count": 69,
   "id": "d46a5a2f",
   "metadata": {},
   "outputs": [],
   "source": [
    "model = LinearRegression(fit_intercept=False).fit(x_,y)"
   ]
  },
  {
   "cell_type": "code",
   "execution_count": 70,
   "id": "8c27eb98",
   "metadata": {},
   "outputs": [
    {
     "name": "stdout",
     "output_type": "stream",
     "text": [
      "Coefficient of determination: 0.8908516262498565\n",
      "Intercept: 0.0\n",
      "Coefficients [21.37232143 -1.32357143  0.02839286]\n"
     ]
    }
   ],
   "source": [
    "r_sq = model.score(x_, y)\n",
    "print('Coefficient of determination:', r_sq)\n",
    "print('Intercept:', model.intercept_)\n",
    "print('Coefficients', model.coef_)"
   ]
  },
  {
   "cell_type": "markdown",
   "id": "fa0ea3f0",
   "metadata": {},
   "source": [
    "**We can see that .intercept_ is zero, but .coef_ contains b0 as its first element. Everything else is the same.**\n",
    "\n",
    "#### Step 5. Predict Response\n",
    "\n",
    "**Now we use .predict()** to get the predicted response."
   ]
  },
  {
   "cell_type": "code",
   "execution_count": 71,
   "id": "28d5459a",
   "metadata": {},
   "outputs": [
    {
     "name": "stdout",
     "output_type": "stream",
     "text": [
      "Predicted response:\n",
      "[15.46428571  7.90714286  6.02857143  9.82857143 19.30714286 34.46428571]\n"
     ]
    }
   ],
   "source": [
    "y_pred = model.predict(x_)\n",
    "print('Predicted response:', y_pred, sep='\\n')"
   ]
  },
  {
   "cell_type": "markdown",
   "id": "fa5b51a0",
   "metadata": {},
   "source": [
    "As we can see, **the prediction works almost the same way as in linear regression. It just requires the modified input instead of the original**. \n",
    "\n",
    "**We can apply an identical procedure if we have several input variables. This would give us an input array with more than one column, but everything else would be the same. Here is an example:**"
   ]
  },
  {
   "cell_type": "code",
   "execution_count": 74,
   "id": "fbb45d38",
   "metadata": {},
   "outputs": [],
   "source": [
    "# Step 1 : Import packages\n",
    "\n",
    "import numpy as np\n",
    "from sklearn.linear_model import LinearRegression\n",
    "from sklearn.preprocessing import PolynomialFeatures\n",
    "\n",
    "# Step 2a. Provide data\n",
    "\n",
    "x = [[0,1], [5,1], [15, 2], [25, 5], [35, 11], [45, 15], [55, 34], [60, 35]]\n",
    "y = [4, 5, 20, 14, 32, 22, 38, 43]\n",
    "\n",
    "x, y = np.array(x), np.array(y)"
   ]
  },
  {
   "cell_type": "code",
   "execution_count": 75,
   "id": "8069b34a",
   "metadata": {},
   "outputs": [],
   "source": [
    "# Step 2b: Transform input data\n",
    "\n",
    "x_ = PolynomialFeatures(degree=2, include_bias=False).fit_transform(x)\n",
    "\n",
    "# Step 3: Create a model and fit it\n",
    "\n",
    "model = LinearRegression().fit(x_, y)\n",
    "\n",
    "# Step 4: Get results\n",
    "\n",
    "r_sq = model.score(x_, y)\n",
    "intercept, coefficients = model.intercept_, model.coef_"
   ]
  },
  {
   "cell_type": "code",
   "execution_count": 76,
   "id": "d379d3fc",
   "metadata": {},
   "outputs": [],
   "source": [
    "# Step 5: Predict\n",
    "\n",
    "y_pred = model.predict(x_)"
   ]
  },
  {
   "cell_type": "markdown",
   "id": "f63b5383",
   "metadata": {},
   "source": [
    "This yields the following results and predictions:"
   ]
  },
  {
   "cell_type": "code",
   "execution_count": 77,
   "id": "50a87b99",
   "metadata": {},
   "outputs": [
    {
     "name": "stdout",
     "output_type": "stream",
     "text": [
      "Coefficient of determination 0.9453701449127822\n",
      "Intercept: 0.8430556452395734\n",
      "Coefficients:\n",
      "[ 2.44828275  0.16160353 -0.15259677  0.47928683 -0.4641851 ]\n",
      "Predicted response:\n",
      "[ 0.54047408 11.36340283 16.07809622 15.79139    29.73858619 23.50834636\n",
      " 39.05631386 41.92339046]\n"
     ]
    }
   ],
   "source": [
    "print('Coefficient of determination', r_sq)\n",
    "print('Intercept:', intercept)\n",
    "print('Coefficients:', coefficients, sep='\\n')\n",
    "print('Predicted response:', y_pred, sep='\\n')"
   ]
  },
  {
   "cell_type": "markdown",
   "id": "8afd3848",
   "metadata": {},
   "source": [
    "In this case there are six regression coefficients (including the intercept) as shown in the estimated regression function:\n",
    "\n",
    "𝑓(𝑥₁, 𝑥₂) = 𝑏₀ + 𝑏₁𝑥₁ + 𝑏₂𝑥₂ + 𝑏₃𝑥₁² + 𝑏₄𝑥₁𝑥₂ + 𝑏₅𝑥₂²\n",
    "\n",
    "We can also notice that **polynomial regression yielded a higher coefficient of determination than multiple linear regression for the same problem**. **At first we might think a large R-squared is a good result. It might be. However, having a complex model and R-squared very close to 1 might also be a sign of overfitting. To check the performance of a model**, we should **test it with new data**, that is **with observations not used to fit (train) the model.**\n",
    "\n",
    "### Advanced Linear Regression with Statsmodels\n",
    "\n",
    "You can **implement linear regression in Python** relatively **easily** by using the **package statsmodels**. This is typically desirable **when there is a need for more detailed results**. The procedure is similar to that of scikit-learn.\n",
    "\n",
    "#### Step 1. Import Packages"
   ]
  },
  {
   "cell_type": "code",
   "execution_count": 78,
   "id": "cb602df4",
   "metadata": {},
   "outputs": [],
   "source": [
    "import numpy as np\n",
    "import statsmodels.api as sm"
   ]
  },
  {
   "cell_type": "markdown",
   "id": "99c937d5",
   "metadata": {},
   "source": [
    "#### Step 2. Provide Data and Transform Inputs"
   ]
  },
  {
   "cell_type": "code",
   "execution_count": 79,
   "id": "6144a654",
   "metadata": {},
   "outputs": [],
   "source": [
    "x = [[0, 1], [5, 1], [15, 2], [25, 5], [35, 11], [45, 15], [55, 34],[60, 35]]\n",
    "y = [4, 5, 20, 14, 32, 22, 38, 43]\n",
    "x, y = np.array(x), np.array(y)"
   ]
  },
  {
   "cell_type": "markdown",
   "id": "0745a539",
   "metadata": {},
   "source": [
    "The input and output arrays are created, but **we still need to add the column of ones to the inputs if we want statsmodels to calculate the intercept b0. It doesn't take b0 into account by default**. This is just one function call:"
   ]
  },
  {
   "cell_type": "code",
   "execution_count": 80,
   "id": "667788ea",
   "metadata": {},
   "outputs": [],
   "source": [
    "x = sm.add_constant(x)"
   ]
  },
  {
   "cell_type": "markdown",
   "id": "4922dc95",
   "metadata": {},
   "source": [
    "This is how we add the column of ones to x, with **add_constant()**. It takes the input array x as an argument and returns a new array with the column of ones inserted at the beginning. This is how x and y look now:"
   ]
  },
  {
   "cell_type": "code",
   "execution_count": 81,
   "id": "30d10723",
   "metadata": {},
   "outputs": [
    {
     "data": {
      "text/plain": [
       "(array([[ 1.,  0.,  1.],\n",
       "        [ 1.,  5.,  1.],\n",
       "        [ 1., 15.,  2.],\n",
       "        [ 1., 25.,  5.],\n",
       "        [ 1., 35., 11.],\n",
       "        [ 1., 45., 15.],\n",
       "        [ 1., 55., 34.],\n",
       "        [ 1., 60., 35.]]),\n",
       " array([ 4,  5, 20, 14, 32, 22, 38, 43]))"
      ]
     },
     "execution_count": 81,
     "metadata": {},
     "output_type": "execute_result"
    }
   ],
   "source": [
    "x, y"
   ]
  },
  {
   "cell_type": "markdown",
   "id": "6753404c",
   "metadata": {},
   "source": [
    "We can see that **the modified x has three columns**: The **first column of ones [corresponding to b0 and replacing the intercept]**, as well as the **two columns of the original features**.\n",
    "\n",
    "#### Step 3. Create a Model and Fit it\n",
    "\n",
    "**The regression model based on ordinary least squares is an instance of the class statsmodels.regression.linear_model.OLS**. This is how we create an object of that class:"
   ]
  },
  {
   "cell_type": "code",
   "execution_count": 82,
   "id": "c5fa2962",
   "metadata": {},
   "outputs": [],
   "source": [
    "model = sm.OLS(y, x)"
   ]
  },
  {
   "cell_type": "markdown",
   "id": "52a7947d",
   "metadata": {},
   "source": [
    "**We must be careful here. The first argument is the output, followed by the input. There are several more optional parameters.**\n",
    "\n",
    "**Once our model is created, we can apply .fit() on it.**"
   ]
  },
  {
   "cell_type": "code",
   "execution_count": 83,
   "id": "2af469ef",
   "metadata": {},
   "outputs": [],
   "source": [
    "results = model.fit()"
   ]
  },
  {
   "cell_type": "markdown",
   "id": "38fcf3f8",
   "metadata": {},
   "source": [
    "**By calling .fit(), we obtain the variable results, which is an instance of the class statsmodels.regression.linear_model.RegressionResultsWrapper. This object holds a lot of information about the regression model.**\n",
    "\n",
    "#### Step 4. Get Results\n",
    "\n",
    "The variable results refer to the object that contains detailed information about the results of linear regression. **You can call .summary() to get a table with the results of your linear regression model.**"
   ]
  },
  {
   "cell_type": "code",
   "execution_count": 84,
   "id": "8264a0dd",
   "metadata": {},
   "outputs": [
    {
     "name": "stderr",
     "output_type": "stream",
     "text": [
      "C:\\Users\\conan\\anaconda3\\lib\\site-packages\\scipy\\stats\\stats.py:1541: UserWarning: kurtosistest only valid for n>=20 ... continuing anyway, n=8\n",
      "  warnings.warn(\"kurtosistest only valid for n>=20 ... continuing \"\n"
     ]
    },
    {
     "data": {
      "text/html": [
       "<table class=\"simpletable\">\n",
       "<caption>OLS Regression Results</caption>\n",
       "<tr>\n",
       "  <th>Dep. Variable:</th>            <td>y</td>        <th>  R-squared:         </th> <td>   0.862</td>\n",
       "</tr>\n",
       "<tr>\n",
       "  <th>Model:</th>                   <td>OLS</td>       <th>  Adj. R-squared:    </th> <td>   0.806</td>\n",
       "</tr>\n",
       "<tr>\n",
       "  <th>Method:</th>             <td>Least Squares</td>  <th>  F-statistic:       </th> <td>   15.56</td>\n",
       "</tr>\n",
       "<tr>\n",
       "  <th>Date:</th>             <td>Mon, 05 Dec 2022</td> <th>  Prob (F-statistic):</th>  <td>0.00713</td>\n",
       "</tr>\n",
       "<tr>\n",
       "  <th>Time:</th>                 <td>17:20:19</td>     <th>  Log-Likelihood:    </th> <td> -24.316</td>\n",
       "</tr>\n",
       "<tr>\n",
       "  <th>No. Observations:</th>      <td>     8</td>      <th>  AIC:               </th> <td>   54.63</td>\n",
       "</tr>\n",
       "<tr>\n",
       "  <th>Df Residuals:</th>          <td>     5</td>      <th>  BIC:               </th> <td>   54.87</td>\n",
       "</tr>\n",
       "<tr>\n",
       "  <th>Df Model:</th>              <td>     2</td>      <th>                     </th>     <td> </td>   \n",
       "</tr>\n",
       "<tr>\n",
       "  <th>Covariance Type:</th>      <td>nonrobust</td>    <th>                     </th>     <td> </td>   \n",
       "</tr>\n",
       "</table>\n",
       "<table class=\"simpletable\">\n",
       "<tr>\n",
       "    <td></td>       <th>coef</th>     <th>std err</th>      <th>t</th>      <th>P>|t|</th>  <th>[0.025</th>    <th>0.975]</th>  \n",
       "</tr>\n",
       "<tr>\n",
       "  <th>const</th> <td>    5.5226</td> <td>    4.431</td> <td>    1.246</td> <td> 0.268</td> <td>   -5.867</td> <td>   16.912</td>\n",
       "</tr>\n",
       "<tr>\n",
       "  <th>x1</th>    <td>    0.4471</td> <td>    0.285</td> <td>    1.567</td> <td> 0.178</td> <td>   -0.286</td> <td>    1.180</td>\n",
       "</tr>\n",
       "<tr>\n",
       "  <th>x2</th>    <td>    0.2550</td> <td>    0.453</td> <td>    0.563</td> <td> 0.598</td> <td>   -0.910</td> <td>    1.420</td>\n",
       "</tr>\n",
       "</table>\n",
       "<table class=\"simpletable\">\n",
       "<tr>\n",
       "  <th>Omnibus:</th>       <td> 0.561</td> <th>  Durbin-Watson:     </th> <td>   3.268</td>\n",
       "</tr>\n",
       "<tr>\n",
       "  <th>Prob(Omnibus):</th> <td> 0.755</td> <th>  Jarque-Bera (JB):  </th> <td>   0.534</td>\n",
       "</tr>\n",
       "<tr>\n",
       "  <th>Skew:</th>          <td> 0.380</td> <th>  Prob(JB):          </th> <td>   0.766</td>\n",
       "</tr>\n",
       "<tr>\n",
       "  <th>Kurtosis:</th>      <td> 1.987</td> <th>  Cond. No.          </th> <td>    80.1</td>\n",
       "</tr>\n",
       "</table><br/><br/>Notes:<br/>[1] Standard Errors assume that the covariance matrix of the errors is correctly specified."
      ],
      "text/plain": [
       "<class 'statsmodels.iolib.summary.Summary'>\n",
       "\"\"\"\n",
       "                            OLS Regression Results                            \n",
       "==============================================================================\n",
       "Dep. Variable:                      y   R-squared:                       0.862\n",
       "Model:                            OLS   Adj. R-squared:                  0.806\n",
       "Method:                 Least Squares   F-statistic:                     15.56\n",
       "Date:                Mon, 05 Dec 2022   Prob (F-statistic):            0.00713\n",
       "Time:                        17:20:19   Log-Likelihood:                -24.316\n",
       "No. Observations:                   8   AIC:                             54.63\n",
       "Df Residuals:                       5   BIC:                             54.87\n",
       "Df Model:                           2                                         \n",
       "Covariance Type:            nonrobust                                         \n",
       "==============================================================================\n",
       "                 coef    std err          t      P>|t|      [0.025      0.975]\n",
       "------------------------------------------------------------------------------\n",
       "const          5.5226      4.431      1.246      0.268      -5.867      16.912\n",
       "x1             0.4471      0.285      1.567      0.178      -0.286       1.180\n",
       "x2             0.2550      0.453      0.563      0.598      -0.910       1.420\n",
       "==============================================================================\n",
       "Omnibus:                        0.561   Durbin-Watson:                   3.268\n",
       "Prob(Omnibus):                  0.755   Jarque-Bera (JB):                0.534\n",
       "Skew:                           0.380   Prob(JB):                        0.766\n",
       "Kurtosis:                       1.987   Cond. No.                         80.1\n",
       "==============================================================================\n",
       "\n",
       "Notes:\n",
       "[1] Standard Errors assume that the covariance matrix of the errors is correctly specified.\n",
       "\"\"\""
      ]
     },
     "execution_count": 84,
     "metadata": {},
     "output_type": "execute_result"
    }
   ],
   "source": [
    "results.summary()"
   ]
  },
  {
   "cell_type": "markdown",
   "id": "b58cfcf3",
   "metadata": {},
   "source": [
    "This table is very comprehensive. In it we can find many statistical values assocated with linear regression including R-squared, b0, b1 and b2.\n",
    "\n",
    "We also see the **error warning kurtosistest**. This is **due to the small number of observations provided."
   ]
  },
  {
   "cell_type": "code",
   "execution_count": 86,
   "id": "eb9bfb91",
   "metadata": {},
   "outputs": [
    {
     "name": "stdout",
     "output_type": "stream",
     "text": [
      "Coefficient of determination: 0.8615939258756777\n",
      "Adjusted coefficient of determination 0.8062314962259488\n",
      "Regression coefficients: [5.52257928 0.44706965 0.25502548]\n"
     ]
    }
   ],
   "source": [
    "print('Coefficient of determination:', results.rsquared)\n",
    "print('Adjusted coefficient of determination', results.rsquared_adj)\n",
    "print('Regression coefficients:', results.params)"
   ]
  },
  {
   "cell_type": "markdown",
   "id": "e1992833",
   "metadata": {},
   "source": [
    "As we can see,\n",
    "\n",
    "- **.rsquared** holds R-squared\n",
    "- **.rsquared_adj** represents adjusted R-squared [which is to say, R-squared corrected according to the number of input features]\n",
    "- **.params** refers the array with b0, b1, b2 respectively\n",
    "\n",
    "**As we can see, these results are identical to those obtained with scikit-learn for the same problem.**\n",
    "\n",
    "#### Step 5. Predict Response\n",
    "\n",
    "**You can obtain the predicted response on the input values used for creating the model using .fittedvalues or .predict() with the input array as the argument.**"
   ]
  },
  {
   "cell_type": "code",
   "execution_count": 88,
   "id": "ef0f8a24",
   "metadata": {},
   "outputs": [
    {
     "name": "stdout",
     "output_type": "stream",
     "text": [
      "Predicted response:\n",
      "[ 5.77760476  8.012953   12.73867497 17.9744479  23.97529728 29.4660957\n",
      " 38.78227633 41.27265006]\n",
      "Predicted response:\n",
      "[ 5.77760476  8.012953   12.73867497 17.9744479  23.97529728 29.4660957\n",
      " 38.78227633 41.27265006]\n"
     ]
    }
   ],
   "source": [
    "print('Predicted response:', results.fittedvalues, sep='\\n')\n",
    "print('Predicted response:', results.predict(x), sep='\\n')"
   ]
  },
  {
   "cell_type": "markdown",
   "id": "c1cfbe47",
   "metadata": {},
   "source": [
    "**This is the predicted response for known inputs.** If you **want predictions with new regressors**, you can also **apply .predict() with the new data as the argument**:"
   ]
  },
  {
   "cell_type": "code",
   "execution_count": 89,
   "id": "6a1fac48",
   "metadata": {},
   "outputs": [
    {
     "data": {
      "text/plain": [
       "array([[1., 0., 1.],\n",
       "       [1., 2., 3.],\n",
       "       [1., 4., 5.],\n",
       "       [1., 6., 7.],\n",
       "       [1., 8., 9.]])"
      ]
     },
     "execution_count": 89,
     "metadata": {},
     "output_type": "execute_result"
    }
   ],
   "source": [
    "x_new = sm.add_constant(np.arange(10).reshape((-1,2)))\n",
    "x_new"
   ]
  },
  {
   "cell_type": "code",
   "execution_count": 90,
   "id": "080b25d3",
   "metadata": {},
   "outputs": [
    {
     "data": {
      "text/plain": [
       "array([ 5.77760476,  7.18179502,  8.58598528,  9.99017554, 11.3943658 ])"
      ]
     },
     "execution_count": 90,
     "metadata": {},
     "output_type": "execute_result"
    }
   ],
   "source": [
    "y_new = results.predict(x_new)\n",
    "y_new"
   ]
  },
  {
   "cell_type": "markdown",
   "id": "d52c8325",
   "metadata": {},
   "source": [
    "As we can see, the predicted results are the same as those obtained with scikit-learn for the same problem.\n",
    "\n",
    "### Beyond Linear Regression\n",
    "\n",
    "**Linear regression is sometimes not appropriate, especially for non-linear models of high complexity.**\n",
    "\n",
    "Fortunately there are other regression techniques available for these cases. Some of them are Support Vector Machines, decision trees, random forest, and neural networks. There are numerous Python libraries for regression using these techniques. Most of them are free and open source. \n",
    "\n",
    "The package scikit-learn provides the means for using other regression techniques in a very similar way to what we've seen. It contains the classes for all of these techniques, with the methods **.fit()**, **predict()**, etc.\n",
    "\n",
    "### Conclusion\n",
    "\n",
    "**We now know what linear regression is and how to implement it in NumPy, scikit-learn and statsmodels.**\n",
    "\n",
    "We use numpy for handling arrays\n",
    "\n",
    "Linear regression is **implemented with scikit-learn if we don't need detailed results, otherwise we use statsmodels.**\n",
    "\n",
    "Both approaches are worth learning more about and exploring further.\n",
    "\n",
    "When performing linear regression in Python, we perform these steps:\n",
    "\n",
    "1. Import packages and classes we need\n",
    "2. Provide data to work with, clean said data and then maybe transform it\n",
    "3. Create a regression model and fit it with our data\n",
    "4. Check the results of model fitting to find out whether it is satisfactory\n",
    "5. Apply the model for predictions"
   ]
  }
 ],
 "metadata": {
  "kernelspec": {
   "display_name": "Python 3 (ipykernel)",
   "language": "python",
   "name": "python3"
  },
  "language_info": {
   "codemirror_mode": {
    "name": "ipython",
    "version": 3
   },
   "file_extension": ".py",
   "mimetype": "text/x-python",
   "name": "python",
   "nbconvert_exporter": "python",
   "pygments_lexer": "ipython3",
   "version": "3.9.12"
  }
 },
 "nbformat": 4,
 "nbformat_minor": 5
}
