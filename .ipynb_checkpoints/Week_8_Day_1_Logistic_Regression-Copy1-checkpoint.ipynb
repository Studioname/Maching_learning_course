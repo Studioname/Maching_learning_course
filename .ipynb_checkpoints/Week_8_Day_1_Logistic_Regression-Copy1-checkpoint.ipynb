{
 "cells": [
  {
   "cell_type": "markdown",
   "id": "4807992e",
   "metadata": {},
   "source": [
    "# Week 8 - Logistic Regression\n",
    "\n",
    "## Python Packages for Logistic Regression\n",
    "\n",
    "For Logistic regression, we need **NumPy** and **scikit-learn**. \n",
    "\n",
    "https://numpy.org/doc/\n",
    "\n",
    "https://scikit-learn.org/stable/\n",
    "\n",
    "Numpy handles the numerical and scientific computing and is highly performant on single and multi-dimensional arrays. Scikit-learn allows us to:\n",
    "\n",
    "- Preprocess data\n",
    "- Reduce the dimensionality of problems\n",
    "- Validate models\n",
    "- Select the most appropriate model\n",
    "- Solve regression and classification problems\n",
    "- Implement cluster analysis\n",
    "\n",
    "If we need functionality that scikit-learn can't provide then we use **StatsModels**. \n",
    "\n",
    "https://www.statsmodels.org/stable/index.html\n",
    "\n",
    "Finally, we'll use **MatPlotLib** to visualise the resluts of our classification. \n",
    "\n",
    "### Logistic Regression in Python with Scikit-Learn, Example 1\n",
    "\n",
    "Our first example relates to a **single-variate binary classification problem**. This is the most straightforward type of classification problem. \n",
    "\n",
    "#### Step 1. Import Packages, Functions and Classes"
   ]
  },
  {
   "cell_type": "code",
   "execution_count": 2,
   "id": "4717516f",
   "metadata": {},
   "outputs": [],
   "source": [
    "import matplotlib.pyplot as plt\n",
    "import numpy as np\n",
    "from sklearn.linear_model import LogisticRegression\n",
    "from sklearn.metrics import classification_report, confusion_matrix"
   ]
  },
  {
   "cell_type": "markdown",
   "id": "2d11a2bd",
   "metadata": {},
   "source": [
    "#### Step 2. Get Data"
   ]
  },
  {
   "cell_type": "code",
   "execution_count": 3,
   "id": "a2c7a50e",
   "metadata": {},
   "outputs": [],
   "source": [
    "## we'll use lists of numbers as simple datasets\n",
    "\n",
    "x = np.arange(10).reshape(-1, 1)\n",
    "y = np.array([0,0,0,0,1,1,1,1,1,1])"
   ]
  },
  {
   "cell_type": "markdown",
   "id": "6e11dfde",
   "metadata": {},
   "source": [
    "**x array has to be 2-dimensional**. It should have **one column for each input, and the number of rows should  be equal to the number of observations**. To **make x 2-dimensional**, we **apply .reshape() with the arguments -1 [to get as many rows as needed] and 1 to get one column**. "
   ]
  },
  {
   "cell_type": "code",
   "execution_count": 4,
   "id": "05375cdb",
   "metadata": {},
   "outputs": [
    {
     "data": {
      "text/plain": [
       "(array([[0],\n",
       "        [1],\n",
       "        [2],\n",
       "        [3],\n",
       "        [4],\n",
       "        [5],\n",
       "        [6],\n",
       "        [7],\n",
       "        [8],\n",
       "        [9]]),\n",
       " array([0, 0, 0, 0, 1, 1, 1, 1, 1, 1]))"
      ]
     },
     "execution_count": 4,
     "metadata": {},
     "output_type": "execute_result"
    }
   ],
   "source": [
    "x, y"
   ]
  },
  {
   "cell_type": "markdown",
   "id": "4fb0ffc7",
   "metadata": {},
   "source": [
    "**x has two dimensions:**\n",
    "\n",
    "1. **One column** for a single input\n",
    "2. **Ten rows**, each corresponding to one observation\n",
    "\n",
    "**y is 1-dimensional** with ten items. Again, each item corresponds to one observation. It contains only zeroes and ones since this is a binary classification problem.\n",
    "\n",
    "#### Step 3. Create a Model and Train it\n",
    "\n",
    "When we have prepared the input and output, we can create and define our classification model. It contains only zeroes and ones because it is a binary classification problem."
   ]
  },
  {
   "cell_type": "code",
   "execution_count": 5,
   "id": "5260b72e",
   "metadata": {},
   "outputs": [],
   "source": [
    "model = LogisticRegression(solver='liblinear', random_state=0)"
   ]
  },
  {
   "cell_type": "markdown",
   "id": "607e459e",
   "metadata": {},
   "source": [
    "**LogisticRegression** has several **optional parameters**:\n",
    "\n",
    "- **penalty** is a **string ('l2' by default)** that decides **whether there is regularisation and which approach to use**. Other options are **'l1', 'elasticnet' and 'none'**. [L1, L2 etc]\n",
    "\n",
    "- **dual** is a **Boolean (False by default)** that decides **whether to use primal (False) or dual formulation (True)**.\n",
    "\n",
    "- **tol** is a **floating point number (1.0 by default)** that defines the **tolerance for stopping the procedure**.\n",
    "\n",
    "- **C** is a **floating point number (1.0 by default)** that defines the **relative strength of regularisation. Smaller values indicate stronger regularisation**.\n",
    "\n",
    "- **fit_intercept** is a **Boolean (True by default)** that decides **whether to calculate the intercept b0 (when True) or consider it equal to zero (when False)**.\n",
    "\n",
    "- **intercept_scaling is a **floating point number (1.0 by default)** that defines the **scaling of the intercept b0**.\n",
    "\n",
    "- **class_weight** is a **dictionary, 'balanced' or None (default)** that **defines the weights related to each class. When None, all classes have the weight 1.**\n",
    "\n",
    "- **random_state** is an **integer, an instance of numpy.RandomState, or None (default)** that defines **what pseudo-random number generator to use**.\n",
    "\n",
    "- **solver** is a **string ('liblinear' by default)** that decides **what solver to use for fitting the model. Other options are 'newton-cg', 'lbfgs', 'sag', and 'saga'.**\n",
    "\n",
    "- **max_iter** is an **integer (100 by default)** that defines the **maximum number of iterations by the solver during model fitting**.\n",
    "\n",
    "- **multi_class** is a **string ('ovr' by default)** that decides the approach for **handling multiple classes. Other options are 'multinomial' and 'auto')**.\n",
    "\n",
    "- **verbose** is a **non-negative integer (0 by default)** that defines the **verbosity for the 'liblinear' and 'lbfgs' solvers**.\n",
    "\n",
    "- **warm_start** is a **Boolean (False by default)** that decides **whether to reuse the previously obtained solution**.\n",
    "\n",
    "- **n_jobs** is an **integer or None (default)** that defines what the **number of parallel processes to use**. **None usually maeans to use one core, while -1 means to use all available ones.**\n",
    "\n",
    "- **l1_ratio** is a **floating point number between 0 and 1 or None (default)** which defines the **relative importance of the L1 part in the elastic-net regularisation**.\n",
    "\n",
    "**We should carefully match the solver and regularisation method for several reasons**:\n",
    "\n",
    "1. **'liblinear'** solver **doesn't work without regularisation**\n",
    "2. **'newton-cg', 'sag', 'saga' and 'lbfgs' don't support L1 regularisation**\n",
    "3. **'saga' is the only solver that supports elastic-net regularisation**\n",
    "\n",
    "**Once the model is created, we need to fit [or train] it. Model fitting is** the process of **determining the coefficients b0, b1...bn that correspond to the best value of the cost function.** You fit the model with **.fit()**:"
   ]
  },
  {
   "cell_type": "code",
   "execution_count": 6,
   "id": "28657e04",
   "metadata": {},
   "outputs": [
    {
     "data": {
      "text/plain": [
       "LogisticRegression(random_state=0, solver='liblinear')"
      ]
     },
     "execution_count": 6,
     "metadata": {},
     "output_type": "execute_result"
    }
   ],
   "source": [
    "model.fit(x,y)"
   ]
  },
  {
   "cell_type": "markdown",
   "id": "cd93889b",
   "metadata": {},
   "source": [
    "**.fit()** takes **x, y, and possibly observation-related weights**. Then it **fits the model** and **returns the model instance itself**:"
   ]
  },
  {
   "cell_type": "markdown",
   "id": "5401c49d",
   "metadata": {},
   "source": [
    "As seen before, we can chain the last two lines of code:"
   ]
  },
  {
   "cell_type": "code",
   "execution_count": 7,
   "id": "b4252da4",
   "metadata": {},
   "outputs": [],
   "source": [
    "model = LogisticRegression(solver='liblinear', random_state=0).fit(x,y)"
   ]
  },
  {
   "cell_type": "markdown",
   "id": "c12eaa93",
   "metadata": {},
   "source": [
    "We can **get the attributes** of our model:"
   ]
  },
  {
   "cell_type": "code",
   "execution_count": 8,
   "id": "01c4a840",
   "metadata": {},
   "outputs": [
    {
     "data": {
      "text/plain": [
       "array([0, 1])"
      ]
     },
     "execution_count": 8,
     "metadata": {},
     "output_type": "execute_result"
    }
   ],
   "source": [
    "model.classes_"
   ]
  },
  {
   "cell_type": "code",
   "execution_count": 9,
   "id": "44c79434",
   "metadata": {},
   "outputs": [
    {
     "data": {
      "text/plain": [
       "array([-1.04608067])"
      ]
     },
     "execution_count": 9,
     "metadata": {},
     "output_type": "execute_result"
    }
   ],
   "source": [
    "model.intercept_"
   ]
  },
  {
   "cell_type": "code",
   "execution_count": 10,
   "id": "f30039b7",
   "metadata": {},
   "outputs": [
    {
     "data": {
      "text/plain": [
       "array([[0.51491375]])"
      ]
     },
     "execution_count": 10,
     "metadata": {},
     "output_type": "execute_result"
    }
   ],
   "source": [
    "model.coef_"
   ]
  },
  {
   "cell_type": "markdown",
   "id": "02afab58",
   "metadata": {},
   "source": [
    "#### Step 4. Evaluate the Model\n",
    "\n",
    "We can **check our model's performance with .predict_proba()**, which **returns the matrix of probabilities that the predicted output is equal to 0 or 1**:"
   ]
  },
  {
   "cell_type": "code",
   "execution_count": 11,
   "id": "2d121124",
   "metadata": {},
   "outputs": [
    {
     "data": {
      "text/plain": [
       "array([[0.74002157, 0.25997843],\n",
       "       [0.62975524, 0.37024476],\n",
       "       [0.5040632 , 0.4959368 ],\n",
       "       [0.37785549, 0.62214451],\n",
       "       [0.26628093, 0.73371907],\n",
       "       [0.17821501, 0.82178499],\n",
       "       [0.11472079, 0.88527921],\n",
       "       [0.07186982, 0.92813018],\n",
       "       [0.04422513, 0.95577487],\n",
       "       [0.02690569, 0.97309431]])"
      ]
     },
     "execution_count": 11,
     "metadata": {},
     "output_type": "execute_result"
    }
   ],
   "source": [
    "model.predict_proba(x)"
   ]
  },
  {
   "cell_type": "markdown",
   "id": "24953886",
   "metadata": {},
   "source": [
    "In the matrix above, **each row corresponds to a single observation**. The **first column** is the **probability of the predicted output being 0, or 1-p(x)].** The **second column** is the **probability that the output is 1, or p(x)**.\n",
    "\n",
    "We can get the **acual predictions**, based on the probability matrix and the values of p(x) using **.predict():**"
   ]
  },
  {
   "cell_type": "code",
   "execution_count": 12,
   "id": "32dfc07c",
   "metadata": {},
   "outputs": [
    {
     "data": {
      "text/plain": [
       "array([0, 0, 0, 1, 1, 1, 1, 1, 1, 1])"
      ]
     },
     "execution_count": 12,
     "metadata": {},
     "output_type": "execute_result"
    }
   ],
   "source": [
    "model.predict(x)"
   ]
  },
  {
   "cell_type": "markdown",
   "id": "c286e901",
   "metadata": {},
   "source": [
    "This function returns the predicted output values as 1-Dimensional array. \n",
    "\n",
    "We can **obtain the accuracy** of our model using **.score()**:"
   ]
  },
  {
   "cell_type": "code",
   "execution_count": 13,
   "id": "8e1da408",
   "metadata": {},
   "outputs": [
    {
     "data": {
      "text/plain": [
       "0.9"
      ]
     },
     "execution_count": 13,
     "metadata": {},
     "output_type": "execute_result"
    }
   ],
   "source": [
    "model.score(x,y)"
   ]
  },
  {
   "cell_type": "markdown",
   "id": "31eea76c",
   "metadata": {},
   "source": [
    "**.score()** takes the input and output as arguments and returns the ratio of the number of correct predictions to the number of observations.\n",
    "\n",
    "**Our score is 0.9**. This means that our model has an **accuracy of 90%**. So if our dataset consists of 10 items, then it **must have made 1 incorrect prediction**.\n",
    "\n",
    "We can get more information on the accuracy of a model with a **confusion matrix**. In the case of binary classification, a confusion matrix shows the numbers of the following:\n",
    "\n",
    "- **True negatives** in the **upper-left** position\n",
    "- **False negatives** in the **lower-left** position\n",
    "- **False positives** in the **upper-right** position\n",
    "- **True positives** in the **lower-right** position\n",
    "\n",
    "**To create the confusion matrix**, you can use **confusion_matrix() and provide the actual and predicted outputs as arguments:**"
   ]
  },
  {
   "cell_type": "code",
   "execution_count": 14,
   "id": "ba0d2c85",
   "metadata": {},
   "outputs": [
    {
     "data": {
      "text/plain": [
       "array([[3, 1],\n",
       "       [0, 6]], dtype=int64)"
      ]
     },
     "execution_count": 14,
     "metadata": {},
     "output_type": "execute_result"
    }
   ],
   "source": [
    "confusion_matrix(y, model.predict(x))"
   ]
  },
  {
   "cell_type": "markdown",
   "id": "f271ed4a",
   "metadata": {},
   "source": [
    "Our matrix shows the following:\n",
    "\n",
    "- **3 True negative predictions**\n",
    "- **0 False negative predictions**\n",
    "- **1 False positive prediction** (wrong)\n",
    "- **6 True positive predictions**\n",
    "\n",
    "**It's often useful to visualise the confusion matrix.** We can do this with **.imshow() from Matplotlib**, which **accepts the confusion matrix as the argument**:"
   ]
  },
  {
   "cell_type": "code",
   "execution_count": 15,
   "id": "fef7e3eb",
   "metadata": {},
   "outputs": [
    {
     "data": {
      "image/png": "[encoded data removed]",
      "text/plain": [
       "<Figure size 576x576 with 1 Axes>"
      ]
     },
     "metadata": {
      "needs_background": "light"
     },
     "output_type": "display_data"
    }
   ],
   "source": [
    "cm = confusion_matrix(y, model.predict(x))\n",
    "\n",
    "fig, ax = plt.subplots(figsize=(8,8))\n",
    "ax.imshow(cm)\n",
    "ax.grid(False)\n",
    "ax.xaxis.set(ticks=(0,1), ticklabels=(\"Predicted 0's\", \"Predicted 1's\"))\n",
    "ax.yaxis.set(ticks=(0,1), ticklabels=(\"Actual 0's\", \"Actual 1's\"))\n",
    "ax.set_ylim(1.5, -0.5)\n",
    "for i in range(2):\n",
    "    for j in range(2):\n",
    "        ax.text(j, i, cm[i, j], ha='center', va='center', color='red')\n",
    "\n",
    "plt.show()"
   ]
  },
  {
   "cell_type": "markdown",
   "id": "cca7c1b4",
   "metadata": {},
   "source": [
    "This is a **heatmap representing the confusion matrix**. \n",
    "\n",
    "In this figure, **different colours represent different numbers** and **similar colours represent similar numbers**. Heatmaps are a nice and convenient way to represent a matrix. \n",
    "\n",
    "We can get a more **comprehensive report** on the classification with **classification_report()**:"
   ]
  },
  {
   "cell_type": "code",
   "execution_count": 16,
   "id": "6e2cf4cf",
   "metadata": {},
   "outputs": [
    {
     "name": "stdout",
     "output_type": "stream",
     "text": [
      "              precision    recall  f1-score   support\n",
      "\n",
      "           0       1.00      0.75      0.86         4\n",
      "           1       0.86      1.00      0.92         6\n",
      "\n",
      "    accuracy                           0.90        10\n",
      "   macro avg       0.93      0.88      0.89        10\n",
      "weighted avg       0.91      0.90      0.90        10\n",
      "\n"
     ]
    }
   ],
   "source": [
    "print(classification_report(y,model.predict(x)))"
   ]
  },
  {
   "cell_type": "markdown",
   "id": "b1123893",
   "metadata": {},
   "source": [
    "**This function takes the actual and predicted outputs as arguments**. It **returns a report on the classification as a dictionary if you provide output_dict=True or a string otherwise**. \n",
    "\n",
    "Note: It's usually better to evaluate your model with the data you didn't use for training. That's how you avoid bias and detect overfitting.\n",
    "\n",
    "#### Improve the Model\n",
    "\n",
    "We can **improve the model** by **setting different parameters**. For example let's start with **regularisation strength C** and **set it to 10.00, instead of 1.00**."
   ]
  },
  {
   "cell_type": "code",
   "execution_count": 18,
   "id": "65abb18a",
   "metadata": {},
   "outputs": [],
   "source": [
    "model = LogisticRegression(solver='liblinear', C=10.0, random_state=0).fit(x,y)"
   ]
  },
  {
   "cell_type": "markdown",
   "id": "dec72da6",
   "metadata": {},
   "source": [
    "Now we have **another model with different parameters**. It has a **different probability matrix** and a **different set of coefficients and predictions**:"
   ]
  },
  {
   "cell_type": "code",
   "execution_count": 19,
   "id": "f3fcb9c6",
   "metadata": {},
   "outputs": [
    {
     "data": {
      "text/plain": [
       "array([-3.51335372])"
      ]
     },
     "execution_count": 19,
     "metadata": {},
     "output_type": "execute_result"
    }
   ],
   "source": [
    "model.intercept_"
   ]
  },
  {
   "cell_type": "code",
   "execution_count": 20,
   "id": "a14589e2",
   "metadata": {},
   "outputs": [
    {
     "data": {
      "text/plain": [
       "array([[1.12066084]])"
      ]
     },
     "execution_count": 20,
     "metadata": {},
     "output_type": "execute_result"
    }
   ],
   "source": [
    "model.coef_"
   ]
  },
  {
   "cell_type": "code",
   "execution_count": 21,
   "id": "0f5a99e6",
   "metadata": {},
   "outputs": [
    {
     "data": {
      "text/plain": [
       "array([[0.97106534, 0.02893466],\n",
       "       [0.9162684 , 0.0837316 ],\n",
       "       [0.7810904 , 0.2189096 ],\n",
       "       [0.53777071, 0.46222929],\n",
       "       [0.27502212, 0.72497788],\n",
       "       [0.11007743, 0.88992257],\n",
       "       [0.03876835, 0.96123165],\n",
       "       [0.01298011, 0.98701989],\n",
       "       [0.0042697 , 0.9957303 ],\n",
       "       [0.00139621, 0.99860379]])"
      ]
     },
     "execution_count": 21,
     "metadata": {},
     "output_type": "execute_result"
    }
   ],
   "source": [
    "model.predict_proba(x)"
   ]
  },
  {
   "cell_type": "code",
   "execution_count": 22,
   "id": "f63b1e9e",
   "metadata": {},
   "outputs": [
    {
     "data": {
      "text/plain": [
       "array([0, 0, 0, 0, 1, 1, 1, 1, 1, 1])"
      ]
     },
     "execution_count": 22,
     "metadata": {},
     "output_type": "execute_result"
    }
   ],
   "source": [
    "model.predict(x)"
   ]
  },
  {
   "cell_type": "markdown",
   "id": "3cb3f576",
   "metadata": {},
   "source": [
    "As we can see, **the absolute values of the intercept b0 and the coefficient b1 are larger.** This is because the **larger value of C means weaker regularisation**, or weaker penalisation related to high values of b0 and b1.\n",
    "\n",
    "Different values of b0 and b1 imply a change of the logit f(x), different values of the probabilities p(x), a different shape of the regression line, and possibly changes in other predicted outputs and classification performance. The boundary value for x for which p(x) = 0.5 and f(x)=0 is higher now - It's above 3. In this case, all our predictions are true, as shown by the accuracy, confusion matrix and classification report."
   ]
  },
  {
   "cell_type": "code",
   "execution_count": 25,
   "id": "cf670f1f",
   "metadata": {},
   "outputs": [
    {
     "data": {
      "text/plain": [
       "1.0"
      ]
     },
     "execution_count": 25,
     "metadata": {},
     "output_type": "execute_result"
    }
   ],
   "source": [
    "model.score(x, y)"
   ]
  },
  {
   "cell_type": "code",
   "execution_count": 26,
   "id": "dd9c4e0b",
   "metadata": {},
   "outputs": [
    {
     "data": {
      "text/plain": [
       "array([[4, 0],\n",
       "       [0, 6]], dtype=int64)"
      ]
     },
     "execution_count": 26,
     "metadata": {},
     "output_type": "execute_result"
    }
   ],
   "source": [
    "confusion_matrix(y, model.predict(x))"
   ]
  },
  {
   "cell_type": "code",
   "execution_count": 27,
   "id": "75bb4031",
   "metadata": {},
   "outputs": [
    {
     "name": "stdout",
     "output_type": "stream",
     "text": [
      "              precision    recall  f1-score   support\n",
      "\n",
      "           0       1.00      1.00      1.00         4\n",
      "           1       1.00      1.00      1.00         6\n",
      "\n",
      "    accuracy                           1.00        10\n",
      "   macro avg       1.00      1.00      1.00        10\n",
      "weighted avg       1.00      1.00      1.00        10\n",
      "\n"
     ]
    }
   ],
   "source": [
    "print(classification_report(y, model.predict(x)))"
   ]
  },
  {
   "cell_type": "markdown",
   "id": "8acf20a8",
   "metadata": {},
   "source": [
    "### Logistic Regression in Python with Scikit-Learn, Example 2"
   ]
  },
  {
   "cell_type": "code",
   "execution_count": 28,
   "id": "36e6cbfe",
   "metadata": {},
   "outputs": [],
   "source": [
    "# Step 1 : Import packages, functions, classes\n",
    "\n",
    "import numpy as np\n",
    "from sklearn.linear_model import LogisticRegression\n",
    "from sklearn.metrics import classification_report, confusion_matrix"
   ]
  },
  {
   "cell_type": "code",
   "execution_count": 30,
   "id": "944f634d",
   "metadata": {},
   "outputs": [
    {
     "data": {
      "text/plain": [
       "(10, 10)"
      ]
     },
     "execution_count": 30,
     "metadata": {},
     "output_type": "execute_result"
    }
   ],
   "source": [
    "# Step 2 : Get data\n",
    "\n",
    "x = np.arange(10).reshape(-1, 1)\n",
    "y = np.array([0, 1, 0, 0, 1, 1, 1, 1, 1, 1])\n",
    "\n",
    "len(x), len(y)"
   ]
  },
  {
   "cell_type": "code",
   "execution_count": 33,
   "id": "eb551fe6",
   "metadata": {},
   "outputs": [],
   "source": [
    "# Step 3 : Create a model and train it\n",
    "\n",
    "model = LogisticRegression(solver='liblinear', C=10.0, random_state=0).fit(x,y)"
   ]
  },
  {
   "cell_type": "code",
   "execution_count": 34,
   "id": "1ecc1c2b",
   "metadata": {},
   "outputs": [],
   "source": [
    "# Step 4 : Evaluate the model\n",
    "\n",
    "p_pred = model.predict_proba(x)\n",
    "y_pred = model.predict(x)\n",
    "score = model.score(x,y)\n",
    "conf_m = confusion_matrix(y, y_pred)\n",
    "report = classification_report(y, y_pred)"
   ]
  },
  {
   "cell_type": "code",
   "execution_count": 35,
   "id": "4a378cae",
   "metadata": {},
   "outputs": [
    {
     "data": {
      "text/plain": [
       "array([-1.51632619])"
      ]
     },
     "execution_count": 35,
     "metadata": {},
     "output_type": "execute_result"
    }
   ],
   "source": [
    "model.intercept_"
   ]
  },
  {
   "cell_type": "code",
   "execution_count": 36,
   "id": "9d430a20",
   "metadata": {},
   "outputs": [
    {
     "data": {
      "text/plain": [
       "array([[0.703457]])"
      ]
     },
     "execution_count": 36,
     "metadata": {},
     "output_type": "execute_result"
    }
   ],
   "source": [
    "model.coef_"
   ]
  },
  {
   "cell_type": "code",
   "execution_count": 37,
   "id": "c93edbca",
   "metadata": {},
   "outputs": [
    {
     "data": {
      "text/plain": [
       "array([[0.81999686, 0.18000314],\n",
       "       [0.69272057, 0.30727943],\n",
       "       [0.52732579, 0.47267421],\n",
       "       [0.35570732, 0.64429268],\n",
       "       [0.21458576, 0.78541424],\n",
       "       [0.11910229, 0.88089771],\n",
       "       [0.06271329, 0.93728671],\n",
       "       [0.03205032, 0.96794968],\n",
       "       [0.0161218 , 0.9838782 ],\n",
       "       [0.00804372, 0.99195628]])"
      ]
     },
     "execution_count": 37,
     "metadata": {},
     "output_type": "execute_result"
    }
   ],
   "source": [
    "p_pred"
   ]
  },
  {
   "cell_type": "code",
   "execution_count": 38,
   "id": "8626d1fb",
   "metadata": {},
   "outputs": [
    {
     "data": {
      "text/plain": [
       "array([0, 0, 0, 1, 1, 1, 1, 1, 1, 1])"
      ]
     },
     "execution_count": 38,
     "metadata": {},
     "output_type": "execute_result"
    }
   ],
   "source": [
    "y_pred"
   ]
  },
  {
   "cell_type": "code",
   "execution_count": 39,
   "id": "8f877ebd",
   "metadata": {},
   "outputs": [
    {
     "data": {
      "text/plain": [
       "0.8"
      ]
     },
     "execution_count": 39,
     "metadata": {},
     "output_type": "execute_result"
    }
   ],
   "source": [
    "score"
   ]
  },
  {
   "cell_type": "code",
   "execution_count": 40,
   "id": "7caff34e",
   "metadata": {},
   "outputs": [
    {
     "data": {
      "text/plain": [
       "array([[2, 1],\n",
       "       [1, 6]], dtype=int64)"
      ]
     },
     "execution_count": 40,
     "metadata": {},
     "output_type": "execute_result"
    }
   ],
   "source": [
    "conf_m"
   ]
  },
  {
   "cell_type": "code",
   "execution_count": 42,
   "id": "6c70b31f",
   "metadata": {},
   "outputs": [
    {
     "name": "stdout",
     "output_type": "stream",
     "text": [
      "              precision    recall  f1-score   support\n",
      "\n",
      "           0       0.67      0.67      0.67         3\n",
      "           1       0.86      0.86      0.86         7\n",
      "\n",
      "    accuracy                           0.80        10\n",
      "   macro avg       0.76      0.76      0.76        10\n",
      "weighted avg       0.80      0.80      0.80        10\n",
      "\n"
     ]
    }
   ],
   "source": [
    "print(report)"
   ]
  },
  {
   "cell_type": "markdown",
   "id": "734c6d99",
   "metadata": {},
   "source": [
    "### Logistic Regression in Python with StatsModels, Example 3\n",
    "\n",
    "We can also implement logistic regression with the StatsModels package. We want to do this when we need more statistical details about models and results. The procedure is similar to scikit-learn."
   ]
  },
  {
   "cell_type": "code",
   "execution_count": 43,
   "id": "3c8bc617",
   "metadata": {},
   "outputs": [],
   "source": [
    "# Step 1 : Import packages\n",
    "\n",
    "import numpy as np\n",
    "import statsmodels.api as sm"
   ]
  },
  {
   "cell_type": "code",
   "execution_count": 44,
   "id": "f5760b0a",
   "metadata": {},
   "outputs": [],
   "source": [
    "# Step 2 : Get data\n",
    "\n",
    "x = np.arange(10).reshape(-1, 1)\n",
    "y = np.array([0, 1, 0, 0, 1, 1, 1, 1, 1, 1])\n",
    "x = sm.add_constant(x)"
   ]
  },
  {
   "cell_type": "markdown",
   "id": "8f10f5c2",
   "metadata": {},
   "source": [
    "**.add_constant() takes the array x as the argument and returns a new array with the additional column of 1's**"
   ]
  },
  {
   "cell_type": "code",
   "execution_count": 45,
   "id": "caf01e3f",
   "metadata": {},
   "outputs": [
    {
     "data": {
      "text/plain": [
       "(array([[1., 0.],\n",
       "        [1., 1.],\n",
       "        [1., 2.],\n",
       "        [1., 3.],\n",
       "        [1., 4.],\n",
       "        [1., 5.],\n",
       "        [1., 6.],\n",
       "        [1., 7.],\n",
       "        [1., 8.],\n",
       "        [1., 9.]]),\n",
       " array([0, 1, 0, 0, 1, 1, 1, 1, 1, 1]))"
      ]
     },
     "execution_count": 45,
     "metadata": {},
     "output_type": "execute_result"
    }
   ],
   "source": [
    "x,y"
   ]
  },
  {
   "cell_type": "markdown",
   "id": "61087b6f",
   "metadata": {},
   "source": [
    "The **first column of x corresponds to the intercept b0**. The **second column contains the original value of x**."
   ]
  },
  {
   "cell_type": "code",
   "execution_count": 46,
   "id": "c2e6dd8c",
   "metadata": {},
   "outputs": [],
   "source": [
    "# Step 3 : Create a model and train it\n",
    "\n",
    "# Our logistic regression model is going to be an instance of the class statsmodels.discrete.discrete_model.Logit\n",
    "\n",
    "# We create it like this:\n",
    "\n",
    "model = sm.Logit(y,x)"
   ]
  },
  {
   "cell_type": "markdown",
   "id": "69978036",
   "metadata": {},
   "source": [
    "Now we've created our model we want to fit it with our data. We do this with **.fit()**, or **if we want to apply L1 regularisation, using .fit_regularized()**."
   ]
  },
  {
   "cell_type": "code",
   "execution_count": 47,
   "id": "25dcba57",
   "metadata": {},
   "outputs": [
    {
     "name": "stdout",
     "output_type": "stream",
     "text": [
      "Optimization terminated successfully.\n",
      "         Current function value: 0.350471\n",
      "         Iterations 7\n"
     ]
    }
   ],
   "source": [
    "result = model.fit(method='newton')"
   ]
  },
  {
   "cell_type": "markdown",
   "id": "5a599484",
   "metadata": {},
   "source": [
    "The model is now ready, and the variable result holds useful data. We can **obtain the values of b0 and b1 with .params**:"
   ]
  },
  {
   "cell_type": "code",
   "execution_count": 48,
   "id": "d0de60d2",
   "metadata": {},
   "outputs": [
    {
     "data": {
      "text/plain": [
       "array([-1.972805  ,  0.82240094])"
      ]
     },
     "execution_count": 48,
     "metadata": {},
     "output_type": "execute_result"
    }
   ],
   "source": [
    "result.params"
   ]
  },
  {
   "cell_type": "markdown",
   "id": "ea262154",
   "metadata": {},
   "source": [
    "The **first element of the obtained array** is the **intercept b0**, while the **second** is the **slop b1**. "
   ]
  },
  {
   "cell_type": "code",
   "execution_count": 49,
   "id": "846d379b",
   "metadata": {},
   "outputs": [
    {
     "data": {
      "text/plain": [
       "array([0.12208792, 0.24041529, 0.41872657, 0.62114189, 0.78864861,\n",
       "       0.89465521, 0.95080891, 0.97777369, 0.99011108, 0.99563083])"
      ]
     },
     "execution_count": 49,
     "metadata": {},
     "output_type": "execute_result"
    }
   ],
   "source": [
    "# Step 4 : Evaluate the model\n",
    "\n",
    "We can use result to obtain the probabilities of the predicted outputs being equal to one:\n",
    "\n",
    "result.predict(x)"
   ]
  },
  {
   "cell_type": "markdown",
   "id": "cb098e47",
   "metadata": {},
   "source": [
    "These probabilities are calculated with **.predict()**. We can use their values to get the **actual predicted outputs**:"
   ]
  },
  {
   "cell_type": "code",
   "execution_count": 50,
   "id": "7c6953ab",
   "metadata": {},
   "outputs": [
    {
     "data": {
      "text/plain": [
       "array([0, 0, 0, 1, 1, 1, 1, 1, 1, 1])"
      ]
     },
     "execution_count": 50,
     "metadata": {},
     "output_type": "execute_result"
    }
   ],
   "source": [
    "(result.predict(x) >= 0.5).astype(int)"
   ]
  },
  {
   "cell_type": "markdown",
   "id": "79f611aa",
   "metadata": {},
   "source": [
    "We can **obtain the confusion matrix with .pred_table()**:"
   ]
  },
  {
   "cell_type": "code",
   "execution_count": 51,
   "id": "5974779b",
   "metadata": {},
   "outputs": [
    {
     "data": {
      "text/plain": [
       "array([[2., 1.],\n",
       "       [1., 6.]])"
      ]
     },
     "execution_count": 51,
     "metadata": {},
     "output_type": "execute_result"
    }
   ],
   "source": [
    "result.pred_table()"
   ]
  },
  {
   "cell_type": "markdown",
   "id": "d983147a",
   "metadata": {},
   "source": [
    "The predicted outputs are equal to our scikit-learn model for logistic regression. However this is coincidental, as the differing processes used to calculate the result will in general differ between different packages.\n",
    "\n",
    "The confusion matrices we obtained with StatsModels and scikit-learn differ in the types of their elements as well (floating point numbers vs integers).\n",
    "\n",
    "**.summary()* and **.summary()2** get output data that you might find useful in some circumstances:\n"
   ]
  },
  {
   "cell_type": "code",
   "execution_count": 52,
   "id": "470dc217",
   "metadata": {},
   "outputs": [
    {
     "data": {
      "text/html": [
       "<table class=\"simpletable\">\n",
       "<caption>Logit Regression Results</caption>\n",
       "<tr>\n",
       "  <th>Dep. Variable:</th>           <td>y</td>        <th>  No. Observations:  </th>  <td>    10</td> \n",
       "</tr>\n",
       "<tr>\n",
       "  <th>Model:</th>                 <td>Logit</td>      <th>  Df Residuals:      </th>  <td>     8</td> \n",
       "</tr>\n",
       "<tr>\n",
       "  <th>Method:</th>                 <td>MLE</td>       <th>  Df Model:          </th>  <td>     1</td> \n",
       "</tr>\n",
       "<tr>\n",
       "  <th>Date:</th>            <td>Thu, 08 Dec 2022</td> <th>  Pseudo R-squ.:     </th>  <td>0.4263</td> \n",
       "</tr>\n",
       "<tr>\n",
       "  <th>Time:</th>                <td>14:11:41</td>     <th>  Log-Likelihood:    </th> <td> -3.5047</td>\n",
       "</tr>\n",
       "<tr>\n",
       "  <th>converged:</th>             <td>True</td>       <th>  LL-Null:           </th> <td> -6.1086</td>\n",
       "</tr>\n",
       "<tr>\n",
       "  <th>Covariance Type:</th>     <td>nonrobust</td>    <th>  LLR p-value:       </th>  <td>0.02248</td>\n",
       "</tr>\n",
       "</table>\n",
       "<table class=\"simpletable\">\n",
       "<tr>\n",
       "    <td></td>       <th>coef</th>     <th>std err</th>      <th>z</th>      <th>P>|z|</th>  <th>[0.025</th>    <th>0.975]</th>  \n",
       "</tr>\n",
       "<tr>\n",
       "  <th>const</th> <td>   -1.9728</td> <td>    1.737</td> <td>   -1.136</td> <td> 0.256</td> <td>   -5.377</td> <td>    1.431</td>\n",
       "</tr>\n",
       "<tr>\n",
       "  <th>x1</th>    <td>    0.8224</td> <td>    0.528</td> <td>    1.557</td> <td> 0.119</td> <td>   -0.213</td> <td>    1.858</td>\n",
       "</tr>\n",
       "</table>"
      ],
      "text/plain": [
       "<class 'statsmodels.iolib.summary.Summary'>\n",
       "\"\"\"\n",
       "                           Logit Regression Results                           \n",
       "==============================================================================\n",
       "Dep. Variable:                      y   No. Observations:                   10\n",
       "Model:                          Logit   Df Residuals:                        8\n",
       "Method:                           MLE   Df Model:                            1\n",
       "Date:                Thu, 08 Dec 2022   Pseudo R-squ.:                  0.4263\n",
       "Time:                        14:11:41   Log-Likelihood:                -3.5047\n",
       "converged:                       True   LL-Null:                       -6.1086\n",
       "Covariance Type:            nonrobust   LLR p-value:                   0.02248\n",
       "==============================================================================\n",
       "                 coef    std err          z      P>|z|      [0.025      0.975]\n",
       "------------------------------------------------------------------------------\n",
       "const         -1.9728      1.737     -1.136      0.256      -5.377       1.431\n",
       "x1             0.8224      0.528      1.557      0.119      -0.213       1.858\n",
       "==============================================================================\n",
       "\"\"\""
      ]
     },
     "execution_count": 52,
     "metadata": {},
     "output_type": "execute_result"
    }
   ],
   "source": [
    "result.summary()"
   ]
  },
  {
   "cell_type": "code",
   "execution_count": 53,
   "id": "08059edb",
   "metadata": {},
   "outputs": [
    {
     "data": {
      "text/html": [
       "<table class=\"simpletable\">\n",
       "<tr>\n",
       "        <td>Model:</td>              <td>Logit</td>      <td>Pseudo R-squared:</td>   <td>0.426</td> \n",
       "</tr>\n",
       "<tr>\n",
       "  <td>Dependent Variable:</td>         <td>y</td>              <td>AIC:</td>         <td>11.0094</td>\n",
       "</tr>\n",
       "<tr>\n",
       "         <td>Date:</td>        <td>2022-12-08 14:12</td>       <td>BIC:</td>         <td>11.6146</td>\n",
       "</tr>\n",
       "<tr>\n",
       "   <td>No. Observations:</td>         <td>10</td>         <td>Log-Likelihood:</td>   <td>-3.5047</td>\n",
       "</tr>\n",
       "<tr>\n",
       "       <td>Df Model:</td>              <td>1</td>            <td>LL-Null:</td>       <td>-6.1086</td>\n",
       "</tr>\n",
       "<tr>\n",
       "     <td>Df Residuals:</td>            <td>8</td>          <td>LLR p-value:</td>    <td>0.022485</td>\n",
       "</tr>\n",
       "<tr>\n",
       "      <td>Converged:</td>           <td>1.0000</td>           <td>Scale:</td>        <td>1.0000</td> \n",
       "</tr>\n",
       "<tr>\n",
       "    <td>No. Iterations:</td>        <td>7.0000</td>              <td></td>              <td></td>    \n",
       "</tr>\n",
       "</table>\n",
       "<table class=\"simpletable\">\n",
       "<tr>\n",
       "    <td></td>     <th>Coef.</th>  <th>Std.Err.</th>    <th>z</th>     <th>P>|z|</th> <th>[0.025</th>  <th>0.975]</th>\n",
       "</tr>\n",
       "<tr>\n",
       "  <th>const</th> <td>-1.9728</td>  <td>1.7366</td>  <td>-1.1360</td> <td>0.2560</td> <td>-5.3765</td> <td>1.4309</td>\n",
       "</tr>\n",
       "<tr>\n",
       "  <th>x1</th>    <td>0.8224</td>   <td>0.5281</td>  <td>1.5572</td>  <td>0.1194</td> <td>-0.2127</td> <td>1.8575</td>\n",
       "</tr>\n",
       "</table>"
      ],
      "text/plain": [
       "<class 'statsmodels.iolib.summary2.Summary'>\n",
       "\"\"\"\n",
       "                        Results: Logit\n",
       "===============================================================\n",
       "Model:              Logit            Pseudo R-squared: 0.426   \n",
       "Dependent Variable: y                AIC:              11.0094 \n",
       "Date:               2022-12-08 14:12 BIC:              11.6146 \n",
       "No. Observations:   10               Log-Likelihood:   -3.5047 \n",
       "Df Model:           1                LL-Null:          -6.1086 \n",
       "Df Residuals:       8                LLR p-value:      0.022485\n",
       "Converged:          1.0000           Scale:            1.0000  \n",
       "No. Iterations:     7.0000                                     \n",
       "-----------------------------------------------------------------\n",
       "          Coef.    Std.Err.      z      P>|z|     [0.025   0.975]\n",
       "-----------------------------------------------------------------\n",
       "const    -1.9728     1.7366   -1.1360   0.2560   -5.3765   1.4309\n",
       "x1        0.8224     0.5281    1.5572   0.1194   -0.2127   1.8575\n",
       "===============================================================\n",
       "\n",
       "\"\"\""
      ]
     },
     "execution_count": 53,
     "metadata": {},
     "output_type": "execute_result"
    }
   ],
   "source": [
    "result.summary2()"
   ]
  },
  {
   "cell_type": "markdown",
   "id": "4fb0f665",
   "metadata": {},
   "source": [
    "### Logistic Regression in Python : Handwriting Recognition\n",
    "\n",
    "**Now we will solve a Machine Learning problem with a full-blown dataset**. For this we'll be using the **digits dataset** from **scikit-learn** library. It is an **image-recognition problem** of a **dataset containing 1797 observations**, each of which is a handwritten digit. **Each image has 64px, and is 8px * 8px.**\n",
    "\n",
    "**The inputs (x) are vectors with 64 dimensions or values.** \n",
    "\n",
    "**Each input vector describes one image.**\n",
    "\n",
    "**Each of the 64 values represents a pixel of the image**.\n",
    "\n",
    "**The input values are the integers between 0 and 16, depending on the shade of gray for the corresponding pixel.**\n",
    "\n",
    "**The output (y) for each obvservation is an integer between 0 and 9, consistent with the digit on the image.**\n",
    "\n",
    "**There are ten classes in total, each corresponding to one image**."
   ]
  },
  {
   "cell_type": "markdown",
   "id": "a7c10a70",
   "metadata": {},
   "source": [
    "#### # Step 1 : Import packages"
   ]
  },
  {
   "cell_type": "code",
   "execution_count": 72,
   "id": "cb5d6523",
   "metadata": {},
   "outputs": [],
   "source": [
    "import matplotlib.pyplot as plt\n",
    "import numpy as np\n",
    "from sklearn.datasets import load_digits\n",
    "from sklearn.linear_model import LogisticRegression\n",
    "from sklearn.metrics import classification_report, confusion_matrix\n",
    "from sklearn.model_selection import train_test_split\n",
    "from sklearn.preprocessing import StandardScaler"
   ]
  },
  {
   "cell_type": "markdown",
   "id": "43fb654c",
   "metadata": {},
   "source": [
    "#### Step 2a : Get Data"
   ]
  },
  {
   "cell_type": "markdown",
   "id": "3e70fcf6",
   "metadata": {},
   "source": [
    "We can grab the dataset directly from scikit-learn with load_digits(). It **returns a tuple of the inputs and outputs**:"
   ]
  },
  {
   "cell_type": "code",
   "execution_count": 59,
   "id": "fa1dc534",
   "metadata": {
    "scrolled": true
   },
   "outputs": [
    {
     "data": {
      "text/plain": [
       "(array([[ 0.,  0.,  5., ...,  0.,  0.,  0.],\n",
       "        [ 0.,  0.,  0., ..., 10.,  0.,  0.],\n",
       "        [ 0.,  0.,  0., ..., 16.,  9.,  0.],\n",
       "        ...,\n",
       "        [ 0.,  0.,  1., ...,  6.,  0.,  0.],\n",
       "        [ 0.,  0.,  2., ..., 12.,  0.,  0.],\n",
       "        [ 0.,  0., 10., ..., 12.,  1.,  0.]]),\n",
       " array([0, 1, 2, ..., 8, 9, 8]))"
      ]
     },
     "execution_count": 59,
     "metadata": {},
     "output_type": "execute_result"
    }
   ],
   "source": [
    "x, y = load_digits(return_X_y=True)\n",
    "x, y"
   ]
  },
  {
   "cell_type": "markdown",
   "id": "daa5b4a1",
   "metadata": {},
   "source": [
    "That's our data to work with.\n",
    "\n",
    "**x is a multi-dimensional array with 1797 rows and 64 columns, containing integers from 0 to 16.**\n",
    "\n",
    "**y is a one-dimensional array with 1797 integers between 0 and 9**.\n",
    "\n",
    "#### Step 2b: Split Data\n",
    "\n",
    "Now we split the dataset into **training** and **test** data. We use the training set to fit our model. Once our model has been trained, we use the test set to test it, and evaluate its performance. It's important not to use training data for testing and vice versa.\n",
    "\n",
    "One way to **split our data** is to apply **train_test_split()**:\n",
    "\n"
   ]
  },
  {
   "cell_type": "code",
   "execution_count": 60,
   "id": "6990b0a7",
   "metadata": {},
   "outputs": [],
   "source": [
    "x_train, x_test, y_train, y_test = train_test_split(x, y, test_size=0.2, random_state=0)"
   ]
  },
  {
   "cell_type": "markdown",
   "id": "5f1da97f",
   "metadata": {},
   "source": [
    "**train_test_split() takes x, y, test_size, which determines the size of the test set, and random_state to define the state of the pseudo-random number generator, as well as other optional arguments**.\n",
    "\n",
    "The function **returns a list with four arrays**:\n",
    "\n",
    "1. **x_train**\n",
    "2. **x_test**\n",
    "3. **y_train**\n",
    "4. **y_test**\n",
    "\n",
    "Once our data is split, we can forget about x_test and y_test until we define our model.\n",
    "\n",
    "#### Step 2c : Scale Data\n",
    "\n",
    "**Standardisation** is the **process of transforming data** in such a way that **the mean of each column becomes equal to zero, and the standard deviation [std] of each column is 1.** This way, we obtain the same scale for all columns. **Take the following steps to standardise our data**:\n",
    "\n",
    "1. **Calculate** the mean and standard deviation for each column\n",
    "2. **Subtract** the corresponding mean from each element\n",
    "3. **Divide** the obtained difference by the corresponding standard deviation\n",
    "\n",
    "**It's a good practice to standardize the input data that we use for logistic regression, although in many cases it's not necessary.** Standardization **might improve the performance of our algorithm**. It helps if we need to **compare and interpret weights**. It's **important when we apply penalization because the algorithm is actually penalizing against large values in the weights**.\n",
    "\n",
    "We can **standardize our inputs** by **creating an instance of StandardScaler** and **calling .fit_transform()**:"
   ]
  },
  {
   "cell_type": "code",
   "execution_count": 61,
   "id": "ceb1567a",
   "metadata": {},
   "outputs": [],
   "source": [
    "scaler = StandardScaler()\n",
    "x_train = scaler.fit_transform(x_train)"
   ]
  },
  {
   "cell_type": "markdown",
   "id": "61cc8116",
   "metadata": {},
   "source": [
    "**fit_transform() fits the instance of StandardScaler to the array passed as an argument, transforms this array, and returns the new, standardized array.** Now **x_train** is a **standardised input array**.\n",
    "\n",
    "#### Step 3 : Create a Model and Train it\n",
    "\n",
    "This step is very similar the our previous examples. The **only difference** is that we **use x_train and y_train subsets to fit the model**. Again, we **create an instance of LogisticRegression** and **call .fit()** on it:"
   ]
  },
  {
   "cell_type": "code",
   "execution_count": 63,
   "id": "66a2931f",
   "metadata": {},
   "outputs": [
    {
     "data": {
      "text/plain": [
       "LogisticRegression(C=0.05, multi_class='ovr', random_state=0,\n",
       "                   solver='liblinear')"
      ]
     },
     "execution_count": 63,
     "metadata": {},
     "output_type": "execute_result"
    }
   ],
   "source": [
    "model = LogisticRegression(solver='liblinear', C=0.05, multi_class='ovr', random_state=0)\n",
    "model.fit(x_train, y_train)"
   ]
  },
  {
   "cell_type": "markdown",
   "id": "fcac5789",
   "metadata": {},
   "source": [
    "**When we're working on problems with more than two classes, we must specifiy the multi_class parameter of LogisticRegression. It determines how to solve the problem:**\n",
    "\n",
    "- **'ovr'** says to make the binary fit for each class\n",
    "- **'multinomial'** says to apply the multinomial loss fit"
   ]
  },
  {
   "cell_type": "code",
   "execution_count": 64,
   "id": "7bbe2730",
   "metadata": {},
   "outputs": [
    {
     "data": {
      "text/plain": [
       "array([-2.73645761, -2.77774361, -2.74028598, -2.72221436, -2.70234208,\n",
       "       -2.7232237 , -2.79949725, -2.74590013, -2.63851341, -2.75679358])"
      ]
     },
     "execution_count": 64,
     "metadata": {},
     "output_type": "execute_result"
    }
   ],
   "source": [
    "model.intercept_"
   ]
  },
  {
   "cell_type": "code",
   "execution_count": 65,
   "id": "19a8a2e4",
   "metadata": {},
   "outputs": [
    {
     "data": {
      "text/plain": [
       "array([[ 0.00000000e+00, -2.27680531e-02, -1.05198103e-02,\n",
       "         1.49272422e-01, -8.08210879e-02, -2.49747653e-01,\n",
       "        -5.14325206e-02, -5.45056683e-03, -2.32032737e-03,\n",
       "        -1.25447504e-01,  3.24463204e-02,  1.02987845e-01,\n",
       "         3.08882350e-01,  3.10625812e-01, -4.08016176e-02,\n",
       "        -1.34743379e-02,  1.08159828e-02,  7.79920142e-02,\n",
       "        -2.55957154e-02, -7.22962220e-03, -1.66787374e-01,\n",
       "         3.37966750e-01,  5.94210751e-02, -2.43160281e-02,\n",
       "         1.77634770e-02,  1.80673248e-01,  9.67450831e-03,\n",
       "        -2.68433227e-01, -4.95389929e-01, -1.28902641e-01,\n",
       "         1.70026784e-01, -2.89743863e-03,  0.00000000e+00,\n",
       "         1.45614546e-01,  1.70908304e-01, -3.15761191e-01,\n",
       "        -3.69687449e-01, -1.86967353e-01,  1.56212150e-01,\n",
       "         0.00000000e+00, -1.93245767e-02, -1.05328652e-01,\n",
       "         3.66928484e-01, -3.37811635e-01, -3.43997894e-01,\n",
       "         8.04630692e-03,  9.36489204e-03,  2.45574216e-03,\n",
       "        -2.34168093e-02, -1.60434709e-01,  2.20981289e-01,\n",
       "         1.17459875e-01,  2.02655733e-01,  1.35809376e-01,\n",
       "        -1.86910239e-01,  4.09616004e-02,  1.69808573e-02,\n",
       "        -3.10310929e-02, -6.51346885e-02,  1.32153332e-01,\n",
       "        -1.15788966e-01, -1.26820221e-01, -3.75484009e-02,\n",
       "         2.54458006e-02],\n",
       "       [ 0.00000000e+00, -4.44373438e-02, -6.11414628e-02,\n",
       "         9.97966593e-02, -4.20579584e-01,  3.24458917e-01,\n",
       "        -4.84569783e-05, -1.32045005e-02, -3.82352054e-03,\n",
       "        -3.03381685e-01, -4.72052001e-01, -1.23239601e-01,\n",
       "         1.85790411e-01,  2.21597957e-01, -2.23807977e-01,\n",
       "        -1.42761875e-02, -2.40102643e-02,  6.41414645e-02,\n",
       "        -6.02862552e-02,  5.55215494e-01,  5.09404144e-01,\n",
       "        -8.65023657e-02,  3.57981304e-04, -3.14763431e-02,\n",
       "        -6.15770282e-02,  1.28021862e-01,  1.04191322e-01,\n",
       "         2.67769020e-01,  6.41407147e-02,  7.98658866e-02,\n",
       "        -1.09772721e-01,  7.72937641e-03,  0.00000000e+00,\n",
       "        -6.35655511e-02, -2.60456408e-02,  2.98098794e-02,\n",
       "         3.95464434e-02, -7.52058354e-02, -1.56986497e-01,\n",
       "         0.00000000e+00,  1.77667165e-02, -2.42570672e-01,\n",
       "        -1.40219819e-01,  3.98028146e-02,  1.50191914e-01,\n",
       "        -2.64530991e-01, -7.47097669e-02, -8.89255324e-02,\n",
       "         1.89202005e-02, -1.33602049e-01, -3.85033642e-02,\n",
       "         1.60033091e-01,  1.90811927e-01,  1.86798857e-02,\n",
       "        -1.91119909e-01,  8.66291511e-02, -2.80266525e-02,\n",
       "        -2.71256220e-02, -2.08990465e-01,  1.03736817e-01,\n",
       "         1.36401041e-01,  2.38142133e-01, -8.30975617e-02,\n",
       "         1.41071902e-01],\n",
       "       [ 0.00000000e+00, -1.14895102e-02,  6.55063688e-02,\n",
       "        -7.68086700e-02, -4.30224304e-02, -1.16551265e-01,\n",
       "        -1.14722587e-02, -1.47179987e-02, -2.01991540e-02,\n",
       "         1.84312311e-01,  1.40192454e-01, -4.93724631e-02,\n",
       "         1.66589755e-01, -2.02632502e-01, -7.29878884e-03,\n",
       "         1.62213850e-02, -8.36474558e-04,  4.12103826e-02,\n",
       "         8.16746353e-02, -2.40005967e-01,  8.00378170e-02,\n",
       "        -3.14566257e-02,  1.03485112e-01,  1.00569255e-01,\n",
       "         5.62380385e-03, -1.20559280e-01, -3.19854890e-01,\n",
       "        -5.54026921e-01,  9.41128408e-02,  9.17829698e-02,\n",
       "         1.04083314e-03,  9.33207282e-03,  0.00000000e+00,\n",
       "        -2.42306756e-02, -2.97216658e-01, -6.09841140e-02,\n",
       "        -7.73826711e-02, -1.86785934e-01, -2.14458767e-01,\n",
       "         0.00000000e+00, -3.96979020e-02,  8.82073738e-02,\n",
       "         1.69726943e-02,  4.88727227e-01, -2.96020813e-01,\n",
       "        -4.31386092e-01, -4.04634351e-01,  6.18158507e-02,\n",
       "        -2.47434359e-02,  1.93590919e-01,  3.67891375e-02,\n",
       "         2.79515331e-01,  3.97902075e-01,  3.24684320e-01,\n",
       "         1.87133795e-01,  1.29983556e-03,  8.48567298e-02,\n",
       "         5.25890088e-02,  1.25612390e-01, -4.26107083e-03,\n",
       "         5.12735614e-02,  2.67130048e-01,  3.85991506e-01,\n",
       "        -4.94859683e-02],\n",
       "       [ 0.00000000e+00,  4.55226633e-02, -1.17387769e-01,\n",
       "         1.23691417e-01,  3.01263861e-01,  9.22022302e-03,\n",
       "        -8.48382276e-02, -1.76766207e-02, -5.45065836e-02,\n",
       "         8.21433959e-02,  8.01532258e-02,  4.59387682e-02,\n",
       "        -1.09437952e-04,  1.96397972e-01,  2.15337498e-01,\n",
       "        -1.69518860e-02, -4.89683028e-03, -1.38080327e-01,\n",
       "        -5.49448076e-01, -2.69680821e-01,  3.43849063e-01,\n",
       "        -6.95095322e-02, -3.56837920e-04,  2.98738262e-02,\n",
       "         4.57663133e-02, -1.36206101e-01, -3.95911571e-01,\n",
       "        -9.35917743e-02,  9.93697268e-03, -4.81286693e-01,\n",
       "        -2.72462776e-01,  4.30380729e-02,  0.00000000e+00,\n",
       "         7.84795323e-02, -1.50195010e-01, -1.92638336e-01,\n",
       "         2.37762053e-01,  1.72072900e-01, -1.68972963e-01,\n",
       "         0.00000000e+00,  4.99726341e-02,  8.43570496e-02,\n",
       "        -2.04806604e-01, -5.48236321e-01, -1.52546679e-04,\n",
       "         4.07796961e-01,  3.98956086e-01, -1.78309684e-02,\n",
       "        -1.08716146e-02, -3.29500488e-02, -3.30977891e-02,\n",
       "        -1.53934404e-01,  7.86975863e-02,  5.42426018e-03,\n",
       "         1.91754702e-01, -8.51289781e-02,  2.45045316e-02,\n",
       "        -1.53176298e-03,  1.00115881e-01,  1.05195111e-01,\n",
       "         1.56971718e-01,  1.31768063e-03, -1.40363400e-01,\n",
       "        -1.12743289e-01],\n",
       "       [ 0.00000000e+00,  1.07076861e-02, -3.69131921e-02,\n",
       "        -3.68237579e-01, -5.19344709e-02, -3.87139474e-01,\n",
       "        -2.12789574e-01,  1.01083535e-02,  7.77393705e-03,\n",
       "         1.72062117e-01, -1.86095665e-01, -1.30327567e-01,\n",
       "        -3.19146172e-01, -3.49394508e-01, -1.27575430e-01,\n",
       "        -4.41857450e-02,  6.05376449e-03, -1.46997118e-02,\n",
       "         1.01490319e-01,  1.37854962e-01, -1.82812922e-02,\n",
       "         4.96470486e-02,  2.22717067e-02,  1.22106072e-01,\n",
       "         1.03880751e-01,  2.78577063e-02,  1.72682358e-01,\n",
       "        -1.21058445e-01,  1.05619306e-01,  1.15547914e-01,\n",
       "         3.05042154e-01,  1.54499855e-01,  0.00000000e+00,\n",
       "         3.52048951e-01, -3.61737291e-02, -6.88254304e-02,\n",
       "         1.82143814e-01,  1.89576943e-01,  1.94975806e-01,\n",
       "         0.00000000e+00,  1.64382832e-01,  3.46939795e-01,\n",
       "        -1.27103621e-01,  3.74784767e-01,  2.95855032e-01,\n",
       "         1.05003469e-01, -8.79309307e-02, -1.60032206e-02,\n",
       "         6.36893246e-02,  2.13557224e-01, -2.44063512e-01,\n",
       "        -1.42962410e-01,  8.86628921e-02, -2.88615230e-01,\n",
       "        -1.51709570e-01,  9.12698605e-03, -6.05307275e-02,\n",
       "         2.25727179e-02,  2.61642731e-02, -9.52738136e-02,\n",
       "         1.27269322e-01, -2.69259908e-01, -3.48271611e-02,\n",
       "        -1.46280102e-02],\n",
       "       [ 0.00000000e+00,  2.89637490e-02,  3.71316463e-01,\n",
       "        -1.48659977e-01,  1.85849270e-01,  4.06789418e-01,\n",
       "         2.87649616e-01, -1.00039925e-01,  1.87358454e-02,\n",
       "        -2.78480845e-02,  1.44030202e-01,  1.10488117e-01,\n",
       "         1.01613305e-01, -2.10293679e-01, -1.35508880e-01,\n",
       "        -3.46951009e-02, -3.02347604e-02,  9.39194609e-02,\n",
       "         1.82589938e-01, -2.15179169e-02, -5.83320612e-01,\n",
       "        -6.33148632e-01, -3.79687183e-01,  3.95529147e-02,\n",
       "        -7.20265650e-02,  2.29548477e-01,  3.28995091e-01,\n",
       "         1.53594846e-01,  1.47700689e-01, -1.37988742e-02,\n",
       "        -2.29267908e-01,  1.41292352e-02,  0.00000000e+00,\n",
       "        -7.14467222e-02,  1.40603070e-01, -1.36862135e-01,\n",
       "        -1.00994341e-01, -6.97925611e-03,  2.01705093e-02,\n",
       "         0.00000000e+00,  6.84927002e-03, -1.45473970e-01,\n",
       "        -3.42310796e-01, -2.38555007e-01, -1.80026869e-02,\n",
       "         2.83724964e-02,  2.78631409e-02, -1.57210862e-02,\n",
       "         2.59390766e-02,  1.78191880e-02, -7.51325884e-02,\n",
       "        -6.62250197e-02,  5.48000985e-02, -6.27341888e-02,\n",
       "        -1.85620786e-01,  4.73468754e-02,  5.99367557e-04,\n",
       "         7.90365464e-02,  2.72969464e-01,  1.71316701e-01,\n",
       "        -1.10872366e-01, -1.46722591e-01, -9.13261157e-02,\n",
       "        -9.65356306e-02],\n",
       "       [ 0.00000000e+00, -1.22761568e-02, -2.14068940e-01,\n",
       "         5.87318015e-02, -4.24323019e-02, -3.40820692e-02,\n",
       "         3.08703433e-02, -2.11367243e-02,  7.92597809e-03,\n",
       "        -1.28306281e-01, -1.29166228e-01, -1.83532851e-03,\n",
       "        -2.10426008e-01, -1.79404471e-01,  1.17460568e-01,\n",
       "         1.32380911e-02,  5.71512390e-03, -1.84888778e-01,\n",
       "         1.02903494e-01, -4.47247737e-02, -2.30172948e-01,\n",
       "        -4.19381849e-01, -7.56003023e-02,  8.26909907e-03,\n",
       "         4.36763592e-03, -9.81837623e-02,  1.05082912e-01,\n",
       "        -2.19926549e-02, -2.12235600e-01, -2.10646336e-01,\n",
       "        -2.89755845e-01,  5.65963963e-03,  0.00000000e+00,\n",
       "         2.37823583e-03,  3.00682257e-01,  1.61864368e-01,\n",
       "         7.34650812e-02,  1.84439009e-01, -1.50938167e-01,\n",
       "         0.00000000e+00, -1.20440324e-02, -2.15433074e-01,\n",
       "         2.99034323e-01,  9.29099120e-02,  4.44766936e-02,\n",
       "         1.09398101e-01,  3.04426869e-01,  2.22254744e-01,\n",
       "         1.72771133e-02, -1.20491796e-01,  1.67439996e-01,\n",
       "         2.95282939e-01, -2.84515757e-01,  1.81893988e-01,\n",
       "         3.10796058e-01, -1.45650894e-01,  2.36626266e-02,\n",
       "        -1.59159800e-02, -8.59444399e-02, -6.81198461e-02,\n",
       "        -4.24768128e-02,  2.43267308e-01, -2.26465844e-02,\n",
       "        -8.41442311e-02],\n",
       "       [ 0.00000000e+00,  8.77353842e-04, -3.16396412e-02,\n",
       "         1.49190781e-01,  1.43412368e-01,  1.77607436e-01,\n",
       "         2.07416913e-01,  2.28849160e-01,  1.09924870e-02,\n",
       "        -4.20225686e-02,  1.98794155e-01,  8.75998628e-02,\n",
       "         2.99241298e-01,  6.09922859e-02,  2.00021581e-02,\n",
       "         1.32414706e-01,  8.29753186e-03, -6.32674050e-02,\n",
       "        -2.76639759e-01, -2.57440813e-01, -7.70608516e-02,\n",
       "         7.95899130e-03, -1.36145942e-02, -7.73775842e-02,\n",
       "         9.78655708e-03, -2.70316956e-01, -2.24676327e-01,\n",
       "        -2.22144874e-01, -3.15211046e-02,  1.88866641e-01,\n",
       "         2.30150627e-01, -1.76288862e-01,  0.00000000e+00,\n",
       "        -1.23903709e-01,  1.77087562e-01,  1.48722582e-01,\n",
       "         1.94550254e-01,  2.61870352e-01,  3.01871826e-01,\n",
       "         0.00000000e+00,  8.51152582e-04, -8.28633583e-02,\n",
       "         6.57379612e-02,  1.45917423e-01,  1.11365827e-01,\n",
       "        -5.64304585e-02, -7.86052334e-02, -3.83146779e-02,\n",
       "         6.67713138e-02, -4.48210714e-02, -6.78538809e-02,\n",
       "         1.64584580e-01, -4.95463968e-01, -2.99517820e-01,\n",
       "        -5.60217037e-02,  2.72190348e-02, -5.81639856e-03,\n",
       "        -1.21498887e-01, -5.62281056e-03, -8.87913964e-02,\n",
       "        -5.06987997e-01, -1.60547390e-01, -7.28566287e-02,\n",
       "         6.90251877e-02],\n",
       "       [ 0.00000000e+00, -6.03331783e-02, -1.71319639e-02,\n",
       "        -2.17055547e-01,  7.95354252e-02, -6.13072799e-02,\n",
       "        -3.12748320e-01, -2.67207476e-02,  3.95209074e-02,\n",
       "        -5.59051577e-02,  2.95629271e-01, -3.48354139e-02,\n",
       "        -2.57038864e-01,  2.94408387e-01,  1.70016383e-01,\n",
       "         1.10008478e-02,  7.53230649e-02,  1.20514748e-01,\n",
       "         3.84779682e-01,  2.90221252e-02, -7.82747805e-02,\n",
       "         3.05912396e-01,  1.39138890e-01, -5.08984622e-02,\n",
       "        -5.00298133e-03, -1.04087813e-01, -4.94151636e-02,\n",
       "         4.27728779e-01,  6.88103780e-02,  6.22544547e-02,\n",
       "        -1.66883527e-01, -1.65624112e-02,  0.00000000e+00,\n",
       "        -2.61674354e-01, -1.78190175e-01,  4.74130050e-01,\n",
       "         2.37619473e-01, -3.56920872e-01, -3.03090780e-01,\n",
       "         0.00000000e+00, -1.36236514e-03,  8.69898343e-02,\n",
       "         4.80990644e-01,  1.06859366e-01,  1.44440319e-01,\n",
       "         1.95931209e-01, -1.24730757e-01,  1.60725965e-02,\n",
       "         2.23557642e-02, -1.42881110e-02,  2.86593552e-01,\n",
       "        -3.25431018e-01, -2.77093323e-01,  1.86946749e-01,\n",
       "        -5.65460739e-02, -2.65018586e-02, -3.81154226e-02,\n",
       "        -1.25717685e-02, -2.46488030e-01,  4.69456847e-02,\n",
       "         1.15303898e-01, -2.35240525e-01, -1.96978585e-02,\n",
       "        -8.56106673e-03],\n",
       "       [ 0.00000000e+00, -6.52262121e-02, -5.75787099e-02,\n",
       "         1.38284753e-01, -6.25506645e-02, -2.85441254e-01,\n",
       "        -3.17168671e-02, -6.28906272e-02, -1.09013693e-02,\n",
       "         3.18990717e-02,  1.29664845e-01, -3.88601666e-03,\n",
       "        -4.02446071e-02,  1.80530751e-02,  7.37060714e-02,\n",
       "        -8.99211829e-03, -2.47437582e-03,  1.01770320e-01,\n",
       "         3.08509685e-01,  5.26606300e-02,  7.44487397e-02,\n",
       "         5.70979753e-01,  1.42443364e-01, -1.20890540e-01,\n",
       "         7.41060843e-03, -1.92562202e-01,  3.01215794e-01,\n",
       "         3.40857680e-01,  1.96820731e-01,  3.99260761e-01,\n",
       "         9.11084287e-02, -5.48250014e-02,  0.00000000e+00,\n",
       "        -3.15236699e-01, -1.44875710e-01,  2.17123360e-01,\n",
       "        -4.90272798e-01,  3.16645301e-02,  1.11484729e-01,\n",
       "         0.00000000e+00,  4.75093867e-02,  6.96854622e-02,\n",
       "        -5.52575642e-01, -3.44452909e-01, -2.21904834e-01,\n",
       "        -8.42745499e-02, -3.54664935e-02, -1.89825187e-02,\n",
       "         1.07298191e-02,  1.25174136e-01, -1.88266908e-01,\n",
       "        -1.62989165e-01, -1.30090391e-01, -2.98002831e-01,\n",
       "         1.14409458e-01,  5.41314593e-02, -1.07742596e-03,\n",
       "        -4.64915158e-02, -5.58035842e-02, -1.64061807e-01,\n",
       "         2.00293988e-01, -1.57753396e-02,  5.66475795e-02,\n",
       "        -1.04948628e-01]])"
      ]
     },
     "execution_count": 65,
     "metadata": {},
     "output_type": "execute_result"
    }
   ],
   "source": [
    "model.coef_"
   ]
  },
  {
   "cell_type": "markdown",
   "id": "61aa4cf5",
   "metadata": {},
   "source": [
    "#### Step 4 : Evaluate the Model\n",
    "\n",
    "We should **evaluate our model** similar to how we did in the previous examples, **except we'll mostly use x_test and y_test, the subsets not applied for training**. \n",
    "\n",
    "**If we've decided to standardise x_train, then the obtained model relies on the scaled data, so x_test should be scaled as well with the same instance of StandardScaler.**"
   ]
  },
  {
   "cell_type": "code",
   "execution_count": 66,
   "id": "d79ed211",
   "metadata": {},
   "outputs": [],
   "source": [
    "x_test = scaler.transform(x_test)"
   ]
  },
  {
   "cell_type": "markdown",
   "id": "567e74a1",
   "metadata": {},
   "source": [
    "That's how we get a **new, properly scaled x_test**. In this case we use **.transform()**, which only transforms the argument without fitting the scaler.\n",
    "\n",
    "Let's **obtain the predicted outputs** with **.predict()**:"
   ]
  },
  {
   "cell_type": "code",
   "execution_count": 69,
   "id": "b41ce4d2",
   "metadata": {},
   "outputs": [],
   "source": [
    "y_pred = model.predict(x_test)"
   ]
  },
  {
   "cell_type": "markdown",
   "id": "75b453bd",
   "metadata": {},
   "source": [
    "And check the **accuracy** with **.score()**:"
   ]
  },
  {
   "cell_type": "code",
   "execution_count": 74,
   "id": "2e5d4cb7",
   "metadata": {},
   "outputs": [
    {
     "data": {
      "text/plain": [
       "0.964509394572025"
      ]
     },
     "execution_count": 74,
     "metadata": {},
     "output_type": "execute_result"
    }
   ],
   "source": [
    "model.score(x_train, y_train)"
   ]
  },
  {
   "cell_type": "code",
   "execution_count": 75,
   "id": "99b64b63",
   "metadata": {},
   "outputs": [
    {
     "data": {
      "text/plain": [
       "0.9416666666666667"
      ]
     },
     "execution_count": 75,
     "metadata": {},
     "output_type": "execute_result"
    }
   ],
   "source": [
    "model.score(x_test, y_test)"
   ]
  },
  {
   "cell_type": "markdown",
   "id": "a7c20c54",
   "metadata": {},
   "source": [
    "As we can see, **we have two different values for the accuracy** - **One for the training set, and one for the test set**It might be a **good idea to compare the two**, as a situation where the **training set accuracy is much higher may indicate overfitting**. The **test set accuracy is more relevant for evaluating the performance on unseen data since it's not biased**.\n",
    "\n",
    "We can get the confusion matrix with **confusion_matrix()**:"
   ]
  },
  {
   "cell_type": "code",
   "execution_count": 76,
   "id": "b90003af",
   "metadata": {},
   "outputs": [
    {
     "data": {
      "text/plain": [
       "array([[27,  0,  0,  0,  0,  0,  0,  0,  0,  0],\n",
       "       [ 0, 32,  0,  0,  0,  0,  1,  0,  1,  1],\n",
       "       [ 1,  1, 33,  1,  0,  0,  0,  0,  0,  0],\n",
       "       [ 0,  0,  1, 28,  0,  0,  0,  0,  0,  0],\n",
       "       [ 0,  0,  0,  0, 29,  0,  0,  1,  0,  0],\n",
       "       [ 0,  0,  0,  0,  0, 39,  0,  0,  0,  1],\n",
       "       [ 0,  1,  0,  0,  0,  0, 43,  0,  0,  0],\n",
       "       [ 0,  0,  0,  0,  0,  0,  0, 39,  0,  0],\n",
       "       [ 0,  2,  1,  2,  0,  0,  0,  1, 33,  0],\n",
       "       [ 0,  0,  0,  1,  0,  1,  0,  2,  1, 36]], dtype=int64)"
      ]
     },
     "execution_count": 76,
     "metadata": {},
     "output_type": "execute_result"
    }
   ],
   "source": [
    "confusion_matrix(y_test, y_pred)"
   ]
  },
  {
   "cell_type": "markdown",
   "id": "b887fd36",
   "metadata": {},
   "source": [
    "Let's **visualise** it:"
   ]
  },
  {
   "cell_type": "code",
   "execution_count": 78,
   "id": "4e385be9",
   "metadata": {},
   "outputs": [
    {
     "data": {
      "image/png": "[encoded data removed]",
      "text/plain": [
       "<Figure size 576x576 with 1 Axes>"
      ]
     },
     "metadata": {
      "needs_background": "light"
     },
     "output_type": "display_data"
    }
   ],
   "source": [
    "cm = confusion_matrix(y_test, y_pred)\n",
    "\n",
    "fig, ax = plt.subplots(figsize=(8,8))\n",
    "ax.imshow(cm)\n",
    "ax.grid(False)\n",
    "ax.set_xlabel('Predicted outputs', fontsize='small', color='black')\n",
    "ax.set_ylabel('Actual outputs', fontsize='small', color='black')\n",
    "ax.xaxis.set(ticks=range(10))\n",
    "ax.yaxis.set(ticks=range(10))\n",
    "ax.set_ylim(9.5, -0.5)\n",
    "for i in range(10):\n",
    "    for j in range(10):\n",
    "        ax.text(j, i, cm[i, j], ha='center', va='center', color='white')\n",
    "plt.show()"
   ]
  },
  {
   "cell_type": "markdown",
   "id": "fd53c932",
   "metadata": {},
   "source": [
    "This is a **heatmap** that illustrates the confusion matrix with **numbers and colours**. We can see that the **shades of purple represent small numbers [like 0, 1, 2 etc] and green or yellow represent large numbers [27 or above].**\n",
    "\n",
    "The numbers on the **main diagonal** show the **number of correct predictions from the test set**. Other numbers correspond to incorrect predictions.\n",
    "\n",
    "Finally, we can **get the report on classification as a string or a dict with classification_report()**:"
   ]
  },
  {
   "cell_type": "code",
   "execution_count": 79,
   "id": "68be3d48",
   "metadata": {},
   "outputs": [
    {
     "name": "stdout",
     "output_type": "stream",
     "text": [
      "              precision    recall  f1-score   support\n",
      "\n",
      "           0       0.96      1.00      0.98        27\n",
      "           1       0.89      0.91      0.90        35\n",
      "           2       0.94      0.92      0.93        36\n",
      "           3       0.88      0.97      0.92        29\n",
      "           4       1.00      0.97      0.98        30\n",
      "           5       0.97      0.97      0.97        40\n",
      "           6       0.98      0.98      0.98        44\n",
      "           7       0.91      1.00      0.95        39\n",
      "           8       0.94      0.85      0.89        39\n",
      "           9       0.95      0.88      0.91        41\n",
      "\n",
      "    accuracy                           0.94       360\n",
      "   macro avg       0.94      0.94      0.94       360\n",
      "weighted avg       0.94      0.94      0.94       360\n",
      "\n"
     ]
    }
   ],
   "source": [
    "print(classification_report(y_test, y_pred))"
   ]
  },
  {
   "cell_type": "markdown",
   "id": "24d3e131",
   "metadata": {},
   "source": [
    "### Beyond Logistic Regression in Python\n",
    "\n",
    "Logistic regression is a fundamental classification technique. It's a relatively uncomplicated linear classifier. Despite its simplicity and popularity, there are cases where logistic regression doesn't work well. In such circumstances, you can use other classification techniques:\n",
    "\n",
    "- k-Nearest Neighbour\n",
    "- Naive Bayes classifiers\n",
    "- Support Vector Machines\n",
    "- Decision Trees\n",
    "- Random Forests\n",
    "- Neural Networks\n",
    "\n",
    "Scikit-learn implements all of the above-mentioned techniques, with the exception of neural networks. **For all of these techniques, scikit-learn offers suitable classes with methods like .fit(), .predict_proba(), .predict(), .score()**, etc. **You can combine them with tran_test_split(), confusion_matrix(), classification_report()** and others."
   ]
  }
 ],
 "metadata": {
  "kernelspec": {
   "display_name": "Python 3 (ipykernel)",
   "language": "python",
   "name": "python3"
  },
  "language_info": {
   "codemirror_mode": {
    "name": "ipython",
    "version": 3
   },
   "file_extension": ".py",
   "mimetype": "text/x-python",
   "name": "python",
   "nbconvert_exporter": "python",
   "pygments_lexer": "ipython3",
   "version": "3.9.12"
  }
 },
 "nbformat": 4,
 "nbformat_minor": 5
}
